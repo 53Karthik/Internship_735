{
  "nbformat": 4,
  "nbformat_minor": 0,
  "metadata": {
    "colab": {
      "provenance": []
    },
    "kernelspec": {
      "name": "python3",
      "display_name": "Python 3"
    },
    "language_info": {
      "name": "python"
    }
  },
  "cells": [
    {
      "cell_type": "code",
      "execution_count": null,
      "metadata": {
        "colab": {
          "base_uri": "https://localhost:8080/"
        },
        "id": "pzlxHRevKodA",
        "outputId": "9c021bec-625e-49c2-a86d-aa1f1311d9d6"
      },
      "outputs": [
        {
          "output_type": "stream",
          "name": "stdout",
          "text": [
            "('ALE AKSHARAVASHIST', 'hu21csen0100521', 4.5, 10, 14.5)\n",
            "('ARELLA JOSHITA CHAKRAVARTHY', 'hu21csen0100536', 10.67, 25, 35.67)\n",
            "('POCHAM VARUN', 'hu21csen0100557', 17.67, 30, 47.67)\n",
            "('PARSI SRIJANA', 'hu21csen0100566', 18.42, 15, 33.42)\n",
            "('GARLAPATI RISHITA', 'hu21csen0100576', 12.42, 20, 32.42)\n",
            "('KOMMARAJU MADHURI CHOWDARY', 'hu21csen0100597', 12.42, 25, 37.42)\n",
            "('S DEEN MOHAMMED SAIF', 'hu21csen0100621', 11.58, 25, 36.58)\n",
            "('KUDITHIPUDI PURUSHOTHAM NAIDU', 'hu21csen0100642', 11.67, 15, 26.67)\n",
            "('GIRISH REDDY KAKUMANU', 'hu21csen0100671', 12.5, 10, 22.5)\n",
            "('NAVYA SHREE', 'hu21csen0100675', 13.42, 20, 33.42)\n",
            "('THUMMALA VENKATA SAI SRUJANA', 'hu21csen0100686', '-', 0, 0)\n",
            "('SYEDA MAHREEN', 'hu21csen0100689', 8.75, 20, 28.75)\n",
            "('KARTHIK SAJJA', 'hu21csen0100735', 7.67, 10, 17.67)\n",
            "('CHANDOLU SAI ADITYA', 'hu21csen0100743', 19.67, 20, 39.67)\n",
            "('SHREYANSH VAJROJU', 'hu21csen0100746', 17.67, 20, 37.67)\n",
            "('BATHULA UDAY KUMAR', 'hu21csen0100964', 12.67, 20, 32.67)\n",
            "('ADDANKI GAYATHRI', 'hu21csen0100966', 12.42, 20, 32.42)\n",
            "('K PRATEEK REDDY', 'hu21csen0101086', 13.67, 15, 28.67)\n",
            "('TUMMALA DHANUSH CHOUDARY', 'hu21csen0101106', 9.17, 5, 14.17)\n",
            "('MAGULURI AASHRITH', 'hu21csen0101107', 17.42, 15, 32.42)\n",
            "('KANCHERLA SATHWIK', 'hu21csen0101140', 7.17, 5, 12.17)\n",
            "('GADDE NAMRATHA SAI', 'hu21csen0101151', 7.92, 15, 22.92)\n",
            "('CHERISHMA MASINA', 'hu21csen0101181', 14.67, 20, 34.67)\n",
            "('BEELA RAJ NAYANATARA', 'hu21csen0101185', 7.42, 20, 27.42)\n",
            "('VEERAM YASHASWI RAM', 'hu21csen0101193', 17.08, 25, 42.08)\n",
            "('SADWIK REDDY KUNTA', 'hu21csen0101197', 5.08, 15, 20.08)\n",
            "('CHAVVA SNEHITHA', 'hu21csen0101260', 9.17, 20, 29.17)\n",
            "('PAVAN SASHANK REDDY', 'hu21csen0101282', 12.25, 5, 17.25)\n",
            "('SAI VARUN RAJU KESHIPEDDI', 'hu21csen0101344', 19.08, 20, 39.08)\n",
            "('MERIGA SRI SAMHITH', 'hu21csen0101375', 12.67, 15, 27.67)\n",
            "('S JYOTHI PRASAD REDDY', 'hu21csen0101380', 4.58, 0, 4.58)\n",
            "('POTLAPALLI VAISSHNAVI', 'hu21csen0101528', 18.42, 20, 38.42)\n",
            "('LAKKOJU NISCHAL RAGHAVA BRAHMAJI', 'hu21csen0101556', 7.17, 15, 22.17)\n",
            "('GUTIPERAHUL', 'hu21csen0101596', 8.08, 10, 18.08)\n",
            "('SREEJA PURUSHOTHAM', 'hu21csen0101630', 8.42, 15, 23.42)\n",
            "('KORRAPATI SAMEENA', 'hu21csen0101668', 12.42, 25, 37.42)\n",
            "('PAMIDIMUNTALA LAKSHMI KARISHMA', 'hu21csen0101725', 9.92, 15, 24.92)\n",
            "('P VARSHINI', 'hu21csen0101730', 5.58, 15, 20.58)\n",
            "('TURLAPATI NAGA SAI RAM', 'hu21csen0101740', 6.92, 5, 11.92)\n",
            "('ATTA  ASISH KUMAR', 'hu21csen0101805', 12.08, 25, 37.08)\n",
            "('PERUGU LEENA SAI', 'hu21csen0101815', 18.42, 15, 33.42)\n",
            "('KANDALA RAJA GOPAL', 'hu21csen0101827', 19.67, 10, 29.67)\n",
            "('AREKATLA SASHANKA', 'hu21csen0101838', 17.67, 10, 27.67)\n",
            "('SATHWIKA ACHUGATLA', 'hu21csen0101848', 6.58, 0, 6.58)\n",
            "('BHUMIREDDYSATYATEJAREDDY', 'hu21csen0101869', 7.58, 5, 12.58)\n",
            "('GOGINENI SUDHEER RAMANA', 'hu21csen0101874', 5.83, 0, 5.83)\n",
            "('KOVVALI JAYANTH', 'hu21csen0101882', 17.33, 20, 37.33)\n",
            "('JAYAABHIRAM KAJA', 'hu21csen0101884', 11.08, 15, 26.08)\n",
            "('SAI HARSHIT', 'hu21csen0101891', 18.42, 10, 28.42)\n",
            "('VELUDANDI HARSHITH', 'hu21csen0101932', '-', 5, 5)\n",
            "('D DEVI DEEKSHITHA', 'HU21CSEN0101934', 7.42, 5, 12.42)\n",
            "('GADESULA LOKESH', 'HU21CSEN0101947', 10.67, 15, 25.67)\n",
            "('UPPARA BINDU SREE', 'HU21CSEN0101952', '-', 15, 15)\n",
            "('KRITHIKA BADIREDDY', 'HU21CSEN0101955', 17.17, 10, 27.17)\n",
            "('SURAPARAJU VENKATA DIVYA', 'HU21CSEN0101957', 10.58, 0, 10.58)\n",
            "('PANALLI ABHISHEK', 'HU21CSEN0101993', 6.83, 5, 11.83)\n",
            "('POLAROWTHU YESWANTH', 'HU21CSEN0101995', 4.83, 5, 9.83)\n",
            "('GARIKAPATI VENKATA GOPI KRISHNA', 'HU21CSEN0102000', 11.92, 25, 36.92)\n",
            "('G VIVEK', 'HU21CSEN0102002', 4.5, 20, 24.5)\n",
            "('VISWAHITHA BADDULA', 'HU21CSEN0102011', 4.58, 10, 14.58)\n",
            "('KOTHURU MOHAN THOSHIK', 'HU21CSEN0102057', 13.25, 20, 33.25)\n"
          ]
        }
      ],
      "source": [
        "import pandas as pd\n",
        "import sqlite3\n",
        "import sys\n",
        "from termcolor import colored\n",
        "a=pd.read_excel(\"eg.xlsx\")\n",
        "d=a.values\n",
        "c=sqlite3.connect('database.db')\n",
        "b=c.cursor()\n",
        "e=b.execute(\"\"\" create table studentdata (name text,pin text,quiz1 int,mid1 int,total int) \"\"\")\n",
        "h=b.executemany(\"\"\"insert into studentdata values (?,?,?,?,?)\"\"\",d)\n",
        "f=b.execute(\"\"\" select * from studentdata\"\"\")\n",
        "for g in f:\n",
        "  print(g)"
      ]
    },
    {
      "cell_type": "code",
      "source": [
        "print(colored(\"SELECT\",'red'))\n",
        "k=b.execute(\"\"\" select name from studentdata\"\"\")\n",
        "for i in k:\n",
        "  print(i)"
      ],
      "metadata": {
        "id": "KQdJ44miOD3X",
        "colab": {
          "base_uri": "https://localhost:8080/"
        },
        "outputId": "3f4cc7e1-ea90-4ca6-9512-20fcf99ff911"
      },
      "execution_count": null,
      "outputs": [
        {
          "output_type": "stream",
          "name": "stdout",
          "text": [
            "SELECT\n",
            "('ALE AKSHARAVASHIST',)\n",
            "('ARELLA JOSHITA CHAKRAVARTHY',)\n",
            "('POCHAM VARUN',)\n",
            "('PARSI SRIJANA',)\n",
            "('GARLAPATI RISHITA',)\n",
            "('KOMMARAJU MADHURI CHOWDARY',)\n",
            "('S DEEN MOHAMMED SAIF',)\n",
            "('KUDITHIPUDI PURUSHOTHAM NAIDU',)\n",
            "('GIRISH REDDY KAKUMANU',)\n",
            "('NAVYA SHREE',)\n",
            "('THUMMALA VENKATA SAI SRUJANA',)\n",
            "('SYEDA MAHREEN',)\n",
            "('KARTHIK SAJJA',)\n",
            "('CHANDOLU SAI ADITYA',)\n",
            "('SHREYANSH VAJROJU',)\n",
            "('BATHULA UDAY KUMAR',)\n",
            "('ADDANKI GAYATHRI',)\n",
            "('K PRATEEK REDDY',)\n",
            "('TUMMALA DHANUSH CHOUDARY',)\n",
            "('MAGULURI AASHRITH',)\n",
            "('KANCHERLA SATHWIK',)\n",
            "('GADDE NAMRATHA SAI',)\n",
            "('CHERISHMA MASINA',)\n",
            "('BEELA RAJ NAYANATARA',)\n",
            "('VEERAM YASHASWI RAM',)\n",
            "('SADWIK REDDY KUNTA',)\n",
            "('CHAVVA SNEHITHA',)\n",
            "('PAVAN SASHANK REDDY',)\n",
            "('SAI VARUN RAJU KESHIPEDDI',)\n",
            "('MERIGA SRI SAMHITH',)\n",
            "('S JYOTHI PRASAD REDDY',)\n",
            "('POTLAPALLI VAISSHNAVI',)\n",
            "('LAKKOJU NISCHAL RAGHAVA BRAHMAJI',)\n",
            "('GUTIPERAHUL',)\n",
            "('SREEJA PURUSHOTHAM',)\n",
            "('KORRAPATI SAMEENA',)\n",
            "('PAMIDIMUNTALA LAKSHMI KARISHMA',)\n",
            "('P VARSHINI',)\n",
            "('TURLAPATI NAGA SAI RAM',)\n",
            "('ATTA  ASISH KUMAR',)\n",
            "('PERUGU LEENA SAI',)\n",
            "('KANDALA RAJA GOPAL',)\n",
            "('AREKATLA SASHANKA',)\n",
            "('SATHWIKA ACHUGATLA',)\n",
            "('BHUMIREDDYSATYATEJAREDDY',)\n",
            "('GOGINENI SUDHEER RAMANA',)\n",
            "('KOVVALI JAYANTH',)\n",
            "('JAYAABHIRAM KAJA',)\n",
            "('SAI HARSHIT',)\n",
            "('VELUDANDI HARSHITH',)\n",
            "('D DEVI DEEKSHITHA',)\n",
            "('GADESULA LOKESH',)\n",
            "('UPPARA BINDU SREE',)\n",
            "('KRITHIKA BADIREDDY',)\n",
            "('SURAPARAJU VENKATA DIVYA',)\n",
            "('PANALLI ABHISHEK',)\n",
            "('POLAROWTHU YESWANTH',)\n",
            "('GARIKAPATI VENKATA GOPI KRISHNA',)\n",
            "('G VIVEK',)\n",
            "('VISWAHITHA BADDULA',)\n",
            "('KOTHURU MOHAN THOSHIK',)\n"
          ]
        }
      ]
    },
    {
      "cell_type": "code",
      "source": [
        "print(colored(\"SELECT DISTINCT\",'blue'))\n",
        "d=b.execute(\"\"\" select distinct quiz1 from studentdata\"\"\")\n",
        "for c in d:\n",
        "  print(c)"
      ],
      "metadata": {
        "id": "8zSb1_xdOJ2i",
        "colab": {
          "base_uri": "https://localhost:8080/"
        },
        "outputId": "cf292bc7-fc91-4b5f-ac0c-18843da3f3d1"
      },
      "execution_count": null,
      "outputs": [
        {
          "output_type": "stream",
          "name": "stdout",
          "text": [
            "SELECT DISTINCT\n",
            "(4.5,)\n",
            "(10.67,)\n",
            "(17.67,)\n",
            "(18.42,)\n",
            "(12.42,)\n",
            "(11.58,)\n",
            "(11.67,)\n",
            "(12.5,)\n",
            "(13.42,)\n",
            "('-',)\n",
            "(8.75,)\n",
            "(7.67,)\n",
            "(19.67,)\n",
            "(12.67,)\n",
            "(13.67,)\n",
            "(9.17,)\n",
            "(17.42,)\n",
            "(7.17,)\n",
            "(7.92,)\n",
            "(14.67,)\n",
            "(7.42,)\n",
            "(17.08,)\n",
            "(5.08,)\n",
            "(12.25,)\n",
            "(19.08,)\n",
            "(4.58,)\n",
            "(8.08,)\n",
            "(8.42,)\n",
            "(9.92,)\n",
            "(5.58,)\n",
            "(6.92,)\n",
            "(12.08,)\n",
            "(6.58,)\n",
            "(7.58,)\n",
            "(5.83,)\n",
            "(17.33,)\n",
            "(11.08,)\n",
            "(17.17,)\n",
            "(10.58,)\n",
            "(6.83,)\n",
            "(4.83,)\n",
            "(11.92,)\n",
            "(13.25,)\n"
          ]
        }
      ]
    },
    {
      "cell_type": "code",
      "source": [
        "print(colored(\"DISTINCT 2C\",'blue'))\n",
        "d=b.execute(\"\"\" select distinct quiz1,mid1 from studentdata\"\"\")\n",
        "for c in d:\n",
        "  print(c)"
      ],
      "metadata": {
        "id": "kr3fhKZUOMBN",
        "colab": {
          "base_uri": "https://localhost:8080/"
        },
        "outputId": "fdc80559-911a-4e0d-ba32-68058a239706"
      },
      "execution_count": null,
      "outputs": [
        {
          "output_type": "stream",
          "name": "stdout",
          "text": [
            "DISTINCT 2C\n",
            "(4.5, 10)\n",
            "(10.67, 25)\n",
            "(17.67, 30)\n",
            "(18.42, 15)\n",
            "(12.42, 20)\n",
            "(12.42, 25)\n",
            "(11.58, 25)\n",
            "(11.67, 15)\n",
            "(12.5, 10)\n",
            "(13.42, 20)\n",
            "('-', 0)\n",
            "(8.75, 20)\n",
            "(7.67, 10)\n",
            "(19.67, 20)\n",
            "(17.67, 20)\n",
            "(12.67, 20)\n",
            "(13.67, 15)\n",
            "(9.17, 5)\n",
            "(17.42, 15)\n",
            "(7.17, 5)\n",
            "(7.92, 15)\n",
            "(14.67, 20)\n",
            "(7.42, 20)\n",
            "(17.08, 25)\n",
            "(5.08, 15)\n",
            "(9.17, 20)\n",
            "(12.25, 5)\n",
            "(19.08, 20)\n",
            "(12.67, 15)\n",
            "(4.58, 0)\n",
            "(18.42, 20)\n",
            "(7.17, 15)\n",
            "(8.08, 10)\n",
            "(8.42, 15)\n",
            "(9.92, 15)\n",
            "(5.58, 15)\n",
            "(6.92, 5)\n",
            "(12.08, 25)\n",
            "(19.67, 10)\n",
            "(17.67, 10)\n",
            "(6.58, 0)\n",
            "(7.58, 5)\n",
            "(5.83, 0)\n",
            "(17.33, 20)\n",
            "(11.08, 15)\n",
            "(18.42, 10)\n",
            "('-', 5)\n",
            "(7.42, 5)\n",
            "(10.67, 15)\n",
            "('-', 15)\n",
            "(17.17, 10)\n",
            "(10.58, 0)\n",
            "(6.83, 5)\n",
            "(4.83, 5)\n",
            "(11.92, 25)\n",
            "(4.5, 20)\n",
            "(4.58, 10)\n",
            "(13.25, 20)\n"
          ]
        }
      ]
    },
    {
      "cell_type": "code",
      "source": [
        "print(colored(\"COUNT DISTINCT\",\"green\"))#no multiple\n",
        "d=b.execute(\"\"\" select count(distinct total) from studentdata\"\"\")\n",
        "for c in d:\n",
        "  print(c)"
      ],
      "metadata": {
        "id": "LoNWHugTOQ--",
        "colab": {
          "base_uri": "https://localhost:8080/"
        },
        "outputId": "06c1725b-a8e2-476a-bf1a-e1d3f3166099"
      },
      "execution_count": null,
      "outputs": [
        {
          "output_type": "stream",
          "name": "stdout",
          "text": [
            "COUNT DISTINCT\n",
            "(55,)\n"
          ]
        }
      ]
    },
    {
      "cell_type": "code",
      "source": [
        "print(colored(\"DISNTINCT SUM\",\"yellow\"))#no multiple\n",
        "d=b.execute(\"\"\" select sum(distinct quiz1) from studentdata\"\"\")\n",
        "for c in d:\n",
        "  print(c)"
      ],
      "metadata": {
        "id": "_U-59S2mOR4F",
        "colab": {
          "base_uri": "https://localhost:8080/"
        },
        "outputId": "a51bd210-f151-4607-c8a8-b18acc1e4d84"
      },
      "execution_count": null,
      "outputs": [
        {
          "output_type": "stream",
          "name": "stdout",
          "text": [
            "DISNTINCT SUM\n",
            "(461.09999999999974,)\n"
          ]
        }
      ]
    },
    {
      "cell_type": "code",
      "source": [
        "print(colored(\"SUM\",\"magenta\"))#no multiple\n",
        "d=b.execute(\"\"\" select sum(quiz1) from studentdata\"\"\")\n",
        "for c in d:\n",
        "  print(c)"
      ],
      "metadata": {
        "id": "KWKL3zndOZNC",
        "colab": {
          "base_uri": "https://localhost:8080/"
        },
        "outputId": "c07f1542-dc12-4d66-b57b-d3374062a420"
      },
      "execution_count": null,
      "outputs": [
        {
          "output_type": "stream",
          "name": "stdout",
          "text": [
            "SUM\n",
            "(664.8100000000002,)\n"
          ]
        }
      ]
    },
    {
      "cell_type": "code",
      "source": [
        "print(colored(\"CONDITION\",\"red\"))\n",
        "d=b.execute(\"\"\" select name from studentdata where mid1>6\"\"\")\n",
        "for c in d:\n",
        "  print(c)"
      ],
      "metadata": {
        "id": "Tgy8ZeuKObYp",
        "colab": {
          "base_uri": "https://localhost:8080/"
        },
        "outputId": "fdb3ace7-bed3-4940-cce9-a9e5eaf01f4a"
      },
      "execution_count": null,
      "outputs": [
        {
          "output_type": "stream",
          "name": "stdout",
          "text": [
            "CONDITION\n",
            "('ALE AKSHARAVASHIST',)\n",
            "('ARELLA JOSHITA CHAKRAVARTHY',)\n",
            "('POCHAM VARUN',)\n",
            "('PARSI SRIJANA',)\n",
            "('GARLAPATI RISHITA',)\n",
            "('KOMMARAJU MADHURI CHOWDARY',)\n",
            "('S DEEN MOHAMMED SAIF',)\n",
            "('KUDITHIPUDI PURUSHOTHAM NAIDU',)\n",
            "('GIRISH REDDY KAKUMANU',)\n",
            "('NAVYA SHREE',)\n",
            "('SYEDA MAHREEN',)\n",
            "('KARTHIK SAJJA',)\n",
            "('CHANDOLU SAI ADITYA',)\n",
            "('SHREYANSH VAJROJU',)\n",
            "('BATHULA UDAY KUMAR',)\n",
            "('ADDANKI GAYATHRI',)\n",
            "('K PRATEEK REDDY',)\n",
            "('MAGULURI AASHRITH',)\n",
            "('GADDE NAMRATHA SAI',)\n",
            "('CHERISHMA MASINA',)\n",
            "('BEELA RAJ NAYANATARA',)\n",
            "('VEERAM YASHASWI RAM',)\n",
            "('SADWIK REDDY KUNTA',)\n",
            "('CHAVVA SNEHITHA',)\n",
            "('SAI VARUN RAJU KESHIPEDDI',)\n",
            "('MERIGA SRI SAMHITH',)\n",
            "('POTLAPALLI VAISSHNAVI',)\n",
            "('LAKKOJU NISCHAL RAGHAVA BRAHMAJI',)\n",
            "('GUTIPERAHUL',)\n",
            "('SREEJA PURUSHOTHAM',)\n",
            "('KORRAPATI SAMEENA',)\n",
            "('PAMIDIMUNTALA LAKSHMI KARISHMA',)\n",
            "('P VARSHINI',)\n",
            "('ATTA  ASISH KUMAR',)\n",
            "('PERUGU LEENA SAI',)\n",
            "('KANDALA RAJA GOPAL',)\n",
            "('AREKATLA SASHANKA',)\n",
            "('KOVVALI JAYANTH',)\n",
            "('JAYAABHIRAM KAJA',)\n",
            "('SAI HARSHIT',)\n",
            "('GADESULA LOKESH',)\n",
            "('UPPARA BINDU SREE',)\n",
            "('KRITHIKA BADIREDDY',)\n",
            "('GARIKAPATI VENKATA GOPI KRISHNA',)\n",
            "('G VIVEK',)\n",
            "('VISWAHITHA BADDULA',)\n",
            "('KOTHURU MOHAN THOSHIK',)\n"
          ]
        }
      ]
    },
    {
      "cell_type": "code",
      "source": [
        "print(colored(\"CONDITION2\",\"red\"))\n",
        "d=b.execute(\"\"\" select name,pin from studentdata where mid1>=7.67\"\"\")\n",
        "for c in d:\n",
        "  print(c)"
      ],
      "metadata": {
        "id": "GL1wspFuOeSL",
        "colab": {
          "base_uri": "https://localhost:8080/"
        },
        "outputId": "8a3cc45d-2f7f-47c4-ecb0-b525afa99de4"
      },
      "execution_count": null,
      "outputs": [
        {
          "output_type": "stream",
          "name": "stdout",
          "text": [
            "CONDITION2\n",
            "('ALE AKSHARAVASHIST', 'hu21csen0100521')\n",
            "('ARELLA JOSHITA CHAKRAVARTHY', 'hu21csen0100536')\n",
            "('POCHAM VARUN', 'hu21csen0100557')\n",
            "('PARSI SRIJANA', 'hu21csen0100566')\n",
            "('GARLAPATI RISHITA', 'hu21csen0100576')\n",
            "('KOMMARAJU MADHURI CHOWDARY', 'hu21csen0100597')\n",
            "('S DEEN MOHAMMED SAIF', 'hu21csen0100621')\n",
            "('KUDITHIPUDI PURUSHOTHAM NAIDU', 'hu21csen0100642')\n",
            "('GIRISH REDDY KAKUMANU', 'hu21csen0100671')\n",
            "('NAVYA SHREE', 'hu21csen0100675')\n",
            "('SYEDA MAHREEN', 'hu21csen0100689')\n",
            "('KARTHIK SAJJA', 'hu21csen0100735')\n",
            "('CHANDOLU SAI ADITYA', 'hu21csen0100743')\n",
            "('SHREYANSH VAJROJU', 'hu21csen0100746')\n",
            "('BATHULA UDAY KUMAR', 'hu21csen0100964')\n",
            "('ADDANKI GAYATHRI', 'hu21csen0100966')\n",
            "('K PRATEEK REDDY', 'hu21csen0101086')\n",
            "('MAGULURI AASHRITH', 'hu21csen0101107')\n",
            "('GADDE NAMRATHA SAI', 'hu21csen0101151')\n",
            "('CHERISHMA MASINA', 'hu21csen0101181')\n",
            "('BEELA RAJ NAYANATARA', 'hu21csen0101185')\n",
            "('VEERAM YASHASWI RAM', 'hu21csen0101193')\n",
            "('SADWIK REDDY KUNTA', 'hu21csen0101197')\n",
            "('CHAVVA SNEHITHA', 'hu21csen0101260')\n",
            "('SAI VARUN RAJU KESHIPEDDI', 'hu21csen0101344')\n",
            "('MERIGA SRI SAMHITH', 'hu21csen0101375')\n",
            "('POTLAPALLI VAISSHNAVI', 'hu21csen0101528')\n",
            "('LAKKOJU NISCHAL RAGHAVA BRAHMAJI', 'hu21csen0101556')\n",
            "('GUTIPERAHUL', 'hu21csen0101596')\n",
            "('SREEJA PURUSHOTHAM', 'hu21csen0101630')\n",
            "('KORRAPATI SAMEENA', 'hu21csen0101668')\n",
            "('PAMIDIMUNTALA LAKSHMI KARISHMA', 'hu21csen0101725')\n",
            "('P VARSHINI', 'hu21csen0101730')\n",
            "('ATTA  ASISH KUMAR', 'hu21csen0101805')\n",
            "('PERUGU LEENA SAI', 'hu21csen0101815')\n",
            "('KANDALA RAJA GOPAL', 'hu21csen0101827')\n",
            "('AREKATLA SASHANKA', 'hu21csen0101838')\n",
            "('KOVVALI JAYANTH', 'hu21csen0101882')\n",
            "('JAYAABHIRAM KAJA', 'hu21csen0101884')\n",
            "('SAI HARSHIT', 'hu21csen0101891')\n",
            "('GADESULA LOKESH', 'HU21CSEN0101947')\n",
            "('UPPARA BINDU SREE', 'HU21CSEN0101952')\n",
            "('KRITHIKA BADIREDDY', 'HU21CSEN0101955')\n",
            "('GARIKAPATI VENKATA GOPI KRISHNA', 'HU21CSEN0102000')\n",
            "('G VIVEK', 'HU21CSEN0102002')\n",
            "('VISWAHITHA BADDULA', 'HU21CSEN0102011')\n",
            "('KOTHURU MOHAN THOSHIK', 'HU21CSEN0102057')\n"
          ]
        }
      ]
    },
    {
      "cell_type": "code",
      "source": [
        "print(colored(\"CONDITION3\",\"red\"))\n",
        "d=b.execute(\"\"\" select name from studentdata where mid1>7.67 and quiz1>=10\"\"\")\n",
        "for c in d:\n",
        "  print(c)"
      ],
      "metadata": {
        "id": "NLhKfh8wOg34",
        "colab": {
          "base_uri": "https://localhost:8080/"
        },
        "outputId": "a5fcfaeb-4f54-4d30-b437-f9d10d6d22f9"
      },
      "execution_count": null,
      "outputs": [
        {
          "output_type": "stream",
          "name": "stdout",
          "text": [
            "CONDITION3\n",
            "('ARELLA JOSHITA CHAKRAVARTHY',)\n",
            "('POCHAM VARUN',)\n",
            "('PARSI SRIJANA',)\n",
            "('GARLAPATI RISHITA',)\n",
            "('KOMMARAJU MADHURI CHOWDARY',)\n",
            "('S DEEN MOHAMMED SAIF',)\n",
            "('KUDITHIPUDI PURUSHOTHAM NAIDU',)\n",
            "('GIRISH REDDY KAKUMANU',)\n",
            "('NAVYA SHREE',)\n",
            "('CHANDOLU SAI ADITYA',)\n",
            "('SHREYANSH VAJROJU',)\n",
            "('BATHULA UDAY KUMAR',)\n",
            "('ADDANKI GAYATHRI',)\n",
            "('K PRATEEK REDDY',)\n",
            "('MAGULURI AASHRITH',)\n",
            "('CHERISHMA MASINA',)\n",
            "('VEERAM YASHASWI RAM',)\n",
            "('SAI VARUN RAJU KESHIPEDDI',)\n",
            "('MERIGA SRI SAMHITH',)\n",
            "('POTLAPALLI VAISSHNAVI',)\n",
            "('KORRAPATI SAMEENA',)\n",
            "('ATTA  ASISH KUMAR',)\n",
            "('PERUGU LEENA SAI',)\n",
            "('KANDALA RAJA GOPAL',)\n",
            "('AREKATLA SASHANKA',)\n",
            "('KOVVALI JAYANTH',)\n",
            "('JAYAABHIRAM KAJA',)\n",
            "('SAI HARSHIT',)\n",
            "('GADESULA LOKESH',)\n",
            "('UPPARA BINDU SREE',)\n",
            "('KRITHIKA BADIREDDY',)\n",
            "('GARIKAPATI VENKATA GOPI KRISHNA',)\n",
            "('KOTHURU MOHAN THOSHIK',)\n"
          ]
        }
      ]
    },
    {
      "cell_type": "code",
      "source": [
        "print(colored(\"CONDITION4\",\"red\"))\n",
        "d=b.execute(\"\"\" select name,pin from studentdata where mid1>=7.67 and quiz1>=10\"\"\")\n",
        "for c in d:\n",
        "  print(c)"
      ],
      "metadata": {
        "id": "r7cMj-QOOogO",
        "colab": {
          "base_uri": "https://localhost:8080/"
        },
        "outputId": "fac696b4-b121-4754-b79b-b3e300f09691"
      },
      "execution_count": null,
      "outputs": [
        {
          "output_type": "stream",
          "name": "stdout",
          "text": [
            "CONDITION4\n",
            "('ARELLA JOSHITA CHAKRAVARTHY', 'hu21csen0100536')\n",
            "('POCHAM VARUN', 'hu21csen0100557')\n",
            "('PARSI SRIJANA', 'hu21csen0100566')\n",
            "('GARLAPATI RISHITA', 'hu21csen0100576')\n",
            "('KOMMARAJU MADHURI CHOWDARY', 'hu21csen0100597')\n",
            "('S DEEN MOHAMMED SAIF', 'hu21csen0100621')\n",
            "('KUDITHIPUDI PURUSHOTHAM NAIDU', 'hu21csen0100642')\n",
            "('GIRISH REDDY KAKUMANU', 'hu21csen0100671')\n",
            "('NAVYA SHREE', 'hu21csen0100675')\n",
            "('CHANDOLU SAI ADITYA', 'hu21csen0100743')\n",
            "('SHREYANSH VAJROJU', 'hu21csen0100746')\n",
            "('BATHULA UDAY KUMAR', 'hu21csen0100964')\n",
            "('ADDANKI GAYATHRI', 'hu21csen0100966')\n",
            "('K PRATEEK REDDY', 'hu21csen0101086')\n",
            "('MAGULURI AASHRITH', 'hu21csen0101107')\n",
            "('CHERISHMA MASINA', 'hu21csen0101181')\n",
            "('VEERAM YASHASWI RAM', 'hu21csen0101193')\n",
            "('SAI VARUN RAJU KESHIPEDDI', 'hu21csen0101344')\n",
            "('MERIGA SRI SAMHITH', 'hu21csen0101375')\n",
            "('POTLAPALLI VAISSHNAVI', 'hu21csen0101528')\n",
            "('KORRAPATI SAMEENA', 'hu21csen0101668')\n",
            "('ATTA  ASISH KUMAR', 'hu21csen0101805')\n",
            "('PERUGU LEENA SAI', 'hu21csen0101815')\n",
            "('KANDALA RAJA GOPAL', 'hu21csen0101827')\n",
            "('AREKATLA SASHANKA', 'hu21csen0101838')\n",
            "('KOVVALI JAYANTH', 'hu21csen0101882')\n",
            "('JAYAABHIRAM KAJA', 'hu21csen0101884')\n",
            "('SAI HARSHIT', 'hu21csen0101891')\n",
            "('GADESULA LOKESH', 'HU21CSEN0101947')\n",
            "('UPPARA BINDU SREE', 'HU21CSEN0101952')\n",
            "('KRITHIKA BADIREDDY', 'HU21CSEN0101955')\n",
            "('GARIKAPATI VENKATA GOPI KRISHNA', 'HU21CSEN0102000')\n",
            "('KOTHURU MOHAN THOSHIK', 'HU21CSEN0102057')\n"
          ]
        }
      ]
    },
    {
      "cell_type": "code",
      "source": [
        "print(colored(\"ORDER BY - ASCENDING ORDER\",\"blue\"))\n",
        "d=b.execute(\"\"\" select * from studentdata order by mid1\"\"\")\n",
        "for c in d:\n",
        "  print(c)"
      ],
      "metadata": {
        "id": "IzwI6V2nOqoh",
        "colab": {
          "base_uri": "https://localhost:8080/"
        },
        "outputId": "5200980d-7c07-460f-bccb-c0186919acb1"
      },
      "execution_count": null,
      "outputs": [
        {
          "output_type": "stream",
          "name": "stdout",
          "text": [
            "ORDER BY - ASCENDING ORDER\n",
            "('THUMMALA VENKATA SAI SRUJANA', 'hu21csen0100686', '-', 0, 0)\n",
            "('S JYOTHI PRASAD REDDY', 'hu21csen0101380', 4.58, 0, 4.58)\n",
            "('SATHWIKA ACHUGATLA', 'hu21csen0101848', 6.58, 0, 6.58)\n",
            "('GOGINENI SUDHEER RAMANA', 'hu21csen0101874', 5.83, 0, 5.83)\n",
            "('SURAPARAJU VENKATA DIVYA', 'HU21CSEN0101957', 10.58, 0, 10.58)\n",
            "('TUMMALA DHANUSH CHOUDARY', 'hu21csen0101106', 9.17, 5, 14.17)\n",
            "('KANCHERLA SATHWIK', 'hu21csen0101140', 7.17, 5, 12.17)\n",
            "('PAVAN SASHANK REDDY', 'hu21csen0101282', 12.25, 5, 17.25)\n",
            "('TURLAPATI NAGA SAI RAM', 'hu21csen0101740', 6.92, 5, 11.92)\n",
            "('BHUMIREDDYSATYATEJAREDDY', 'hu21csen0101869', 7.58, 5, 12.58)\n",
            "('VELUDANDI HARSHITH', 'hu21csen0101932', '-', 5, 5)\n",
            "('D DEVI DEEKSHITHA', 'HU21CSEN0101934', 7.42, 5, 12.42)\n",
            "('PANALLI ABHISHEK', 'HU21CSEN0101993', 6.83, 5, 11.83)\n",
            "('POLAROWTHU YESWANTH', 'HU21CSEN0101995', 4.83, 5, 9.83)\n",
            "('ALE AKSHARAVASHIST', 'hu21csen0100521', 4.5, 10, 14.5)\n",
            "('GIRISH REDDY KAKUMANU', 'hu21csen0100671', 12.5, 10, 22.5)\n",
            "('KARTHIK SAJJA', 'hu21csen0100735', 7.67, 10, 17.67)\n",
            "('GUTIPERAHUL', 'hu21csen0101596', 8.08, 10, 18.08)\n",
            "('KANDALA RAJA GOPAL', 'hu21csen0101827', 19.67, 10, 29.67)\n",
            "('AREKATLA SASHANKA', 'hu21csen0101838', 17.67, 10, 27.67)\n",
            "('SAI HARSHIT', 'hu21csen0101891', 18.42, 10, 28.42)\n",
            "('KRITHIKA BADIREDDY', 'HU21CSEN0101955', 17.17, 10, 27.17)\n",
            "('VISWAHITHA BADDULA', 'HU21CSEN0102011', 4.58, 10, 14.58)\n",
            "('PARSI SRIJANA', 'hu21csen0100566', 18.42, 15, 33.42)\n",
            "('KUDITHIPUDI PURUSHOTHAM NAIDU', 'hu21csen0100642', 11.67, 15, 26.67)\n",
            "('K PRATEEK REDDY', 'hu21csen0101086', 13.67, 15, 28.67)\n",
            "('MAGULURI AASHRITH', 'hu21csen0101107', 17.42, 15, 32.42)\n",
            "('GADDE NAMRATHA SAI', 'hu21csen0101151', 7.92, 15, 22.92)\n",
            "('SADWIK REDDY KUNTA', 'hu21csen0101197', 5.08, 15, 20.08)\n",
            "('MERIGA SRI SAMHITH', 'hu21csen0101375', 12.67, 15, 27.67)\n",
            "('LAKKOJU NISCHAL RAGHAVA BRAHMAJI', 'hu21csen0101556', 7.17, 15, 22.17)\n",
            "('SREEJA PURUSHOTHAM', 'hu21csen0101630', 8.42, 15, 23.42)\n",
            "('PAMIDIMUNTALA LAKSHMI KARISHMA', 'hu21csen0101725', 9.92, 15, 24.92)\n",
            "('P VARSHINI', 'hu21csen0101730', 5.58, 15, 20.58)\n",
            "('PERUGU LEENA SAI', 'hu21csen0101815', 18.42, 15, 33.42)\n",
            "('JAYAABHIRAM KAJA', 'hu21csen0101884', 11.08, 15, 26.08)\n",
            "('GADESULA LOKESH', 'HU21CSEN0101947', 10.67, 15, 25.67)\n",
            "('UPPARA BINDU SREE', 'HU21CSEN0101952', '-', 15, 15)\n",
            "('GARLAPATI RISHITA', 'hu21csen0100576', 12.42, 20, 32.42)\n",
            "('NAVYA SHREE', 'hu21csen0100675', 13.42, 20, 33.42)\n",
            "('SYEDA MAHREEN', 'hu21csen0100689', 8.75, 20, 28.75)\n",
            "('CHANDOLU SAI ADITYA', 'hu21csen0100743', 19.67, 20, 39.67)\n",
            "('SHREYANSH VAJROJU', 'hu21csen0100746', 17.67, 20, 37.67)\n",
            "('BATHULA UDAY KUMAR', 'hu21csen0100964', 12.67, 20, 32.67)\n",
            "('ADDANKI GAYATHRI', 'hu21csen0100966', 12.42, 20, 32.42)\n",
            "('CHERISHMA MASINA', 'hu21csen0101181', 14.67, 20, 34.67)\n",
            "('BEELA RAJ NAYANATARA', 'hu21csen0101185', 7.42, 20, 27.42)\n",
            "('CHAVVA SNEHITHA', 'hu21csen0101260', 9.17, 20, 29.17)\n",
            "('SAI VARUN RAJU KESHIPEDDI', 'hu21csen0101344', 19.08, 20, 39.08)\n",
            "('POTLAPALLI VAISSHNAVI', 'hu21csen0101528', 18.42, 20, 38.42)\n",
            "('KOVVALI JAYANTH', 'hu21csen0101882', 17.33, 20, 37.33)\n",
            "('G VIVEK', 'HU21CSEN0102002', 4.5, 20, 24.5)\n",
            "('KOTHURU MOHAN THOSHIK', 'HU21CSEN0102057', 13.25, 20, 33.25)\n",
            "('ARELLA JOSHITA CHAKRAVARTHY', 'hu21csen0100536', 10.67, 25, 35.67)\n",
            "('KOMMARAJU MADHURI CHOWDARY', 'hu21csen0100597', 12.42, 25, 37.42)\n",
            "('S DEEN MOHAMMED SAIF', 'hu21csen0100621', 11.58, 25, 36.58)\n",
            "('VEERAM YASHASWI RAM', 'hu21csen0101193', 17.08, 25, 42.08)\n",
            "('KORRAPATI SAMEENA', 'hu21csen0101668', 12.42, 25, 37.42)\n",
            "('ATTA  ASISH KUMAR', 'hu21csen0101805', 12.08, 25, 37.08)\n",
            "('GARIKAPATI VENKATA GOPI KRISHNA', 'HU21CSEN0102000', 11.92, 25, 36.92)\n",
            "('POCHAM VARUN', 'hu21csen0100557', 17.67, 30, 47.67)\n"
          ]
        }
      ]
    },
    {
      "cell_type": "code",
      "source": [
        "print(colored(\"ORDER BY - DESCENDING ORDER\",\"green\"))\n",
        "d=b.execute(\"\"\" select * from studentdata order by mid1 desc\"\"\")\n",
        "for c in d:\n",
        "  print(c)"
      ],
      "metadata": {
        "id": "bhW_aasvOvHZ",
        "colab": {
          "base_uri": "https://localhost:8080/"
        },
        "outputId": "7d90970d-7478-4f51-a994-6c64b215edd2"
      },
      "execution_count": null,
      "outputs": [
        {
          "output_type": "stream",
          "name": "stdout",
          "text": [
            "ORDER BY - DESCENDING ORDER\n",
            "('POCHAM VARUN', 'hu21csen0100557', 17.67, 30, 47.67)\n",
            "('ARELLA JOSHITA CHAKRAVARTHY', 'hu21csen0100536', 10.67, 25, 35.67)\n",
            "('KOMMARAJU MADHURI CHOWDARY', 'hu21csen0100597', 12.42, 25, 37.42)\n",
            "('S DEEN MOHAMMED SAIF', 'hu21csen0100621', 11.58, 25, 36.58)\n",
            "('VEERAM YASHASWI RAM', 'hu21csen0101193', 17.08, 25, 42.08)\n",
            "('KORRAPATI SAMEENA', 'hu21csen0101668', 12.42, 25, 37.42)\n",
            "('ATTA  ASISH KUMAR', 'hu21csen0101805', 12.08, 25, 37.08)\n",
            "('GARIKAPATI VENKATA GOPI KRISHNA', 'HU21CSEN0102000', 11.92, 25, 36.92)\n",
            "('GARLAPATI RISHITA', 'hu21csen0100576', 12.42, 20, 32.42)\n",
            "('NAVYA SHREE', 'hu21csen0100675', 13.42, 20, 33.42)\n",
            "('SYEDA MAHREEN', 'hu21csen0100689', 8.75, 20, 28.75)\n",
            "('CHANDOLU SAI ADITYA', 'hu21csen0100743', 19.67, 20, 39.67)\n",
            "('SHREYANSH VAJROJU', 'hu21csen0100746', 17.67, 20, 37.67)\n",
            "('BATHULA UDAY KUMAR', 'hu21csen0100964', 12.67, 20, 32.67)\n",
            "('ADDANKI GAYATHRI', 'hu21csen0100966', 12.42, 20, 32.42)\n",
            "('CHERISHMA MASINA', 'hu21csen0101181', 14.67, 20, 34.67)\n",
            "('BEELA RAJ NAYANATARA', 'hu21csen0101185', 7.42, 20, 27.42)\n",
            "('CHAVVA SNEHITHA', 'hu21csen0101260', 9.17, 20, 29.17)\n",
            "('SAI VARUN RAJU KESHIPEDDI', 'hu21csen0101344', 19.08, 20, 39.08)\n",
            "('POTLAPALLI VAISSHNAVI', 'hu21csen0101528', 18.42, 20, 38.42)\n",
            "('KOVVALI JAYANTH', 'hu21csen0101882', 17.33, 20, 37.33)\n",
            "('G VIVEK', 'HU21CSEN0102002', 4.5, 20, 24.5)\n",
            "('KOTHURU MOHAN THOSHIK', 'HU21CSEN0102057', 13.25, 20, 33.25)\n",
            "('PARSI SRIJANA', 'hu21csen0100566', 18.42, 15, 33.42)\n",
            "('KUDITHIPUDI PURUSHOTHAM NAIDU', 'hu21csen0100642', 11.67, 15, 26.67)\n",
            "('K PRATEEK REDDY', 'hu21csen0101086', 13.67, 15, 28.67)\n",
            "('MAGULURI AASHRITH', 'hu21csen0101107', 17.42, 15, 32.42)\n",
            "('GADDE NAMRATHA SAI', 'hu21csen0101151', 7.92, 15, 22.92)\n",
            "('SADWIK REDDY KUNTA', 'hu21csen0101197', 5.08, 15, 20.08)\n",
            "('MERIGA SRI SAMHITH', 'hu21csen0101375', 12.67, 15, 27.67)\n",
            "('LAKKOJU NISCHAL RAGHAVA BRAHMAJI', 'hu21csen0101556', 7.17, 15, 22.17)\n",
            "('SREEJA PURUSHOTHAM', 'hu21csen0101630', 8.42, 15, 23.42)\n",
            "('PAMIDIMUNTALA LAKSHMI KARISHMA', 'hu21csen0101725', 9.92, 15, 24.92)\n",
            "('P VARSHINI', 'hu21csen0101730', 5.58, 15, 20.58)\n",
            "('PERUGU LEENA SAI', 'hu21csen0101815', 18.42, 15, 33.42)\n",
            "('JAYAABHIRAM KAJA', 'hu21csen0101884', 11.08, 15, 26.08)\n",
            "('GADESULA LOKESH', 'HU21CSEN0101947', 10.67, 15, 25.67)\n",
            "('UPPARA BINDU SREE', 'HU21CSEN0101952', '-', 15, 15)\n",
            "('ALE AKSHARAVASHIST', 'hu21csen0100521', 4.5, 10, 14.5)\n",
            "('GIRISH REDDY KAKUMANU', 'hu21csen0100671', 12.5, 10, 22.5)\n",
            "('KARTHIK SAJJA', 'hu21csen0100735', 7.67, 10, 17.67)\n",
            "('GUTIPERAHUL', 'hu21csen0101596', 8.08, 10, 18.08)\n",
            "('KANDALA RAJA GOPAL', 'hu21csen0101827', 19.67, 10, 29.67)\n",
            "('AREKATLA SASHANKA', 'hu21csen0101838', 17.67, 10, 27.67)\n",
            "('SAI HARSHIT', 'hu21csen0101891', 18.42, 10, 28.42)\n",
            "('KRITHIKA BADIREDDY', 'HU21CSEN0101955', 17.17, 10, 27.17)\n",
            "('VISWAHITHA BADDULA', 'HU21CSEN0102011', 4.58, 10, 14.58)\n",
            "('TUMMALA DHANUSH CHOUDARY', 'hu21csen0101106', 9.17, 5, 14.17)\n",
            "('KANCHERLA SATHWIK', 'hu21csen0101140', 7.17, 5, 12.17)\n",
            "('PAVAN SASHANK REDDY', 'hu21csen0101282', 12.25, 5, 17.25)\n",
            "('TURLAPATI NAGA SAI RAM', 'hu21csen0101740', 6.92, 5, 11.92)\n",
            "('BHUMIREDDYSATYATEJAREDDY', 'hu21csen0101869', 7.58, 5, 12.58)\n",
            "('VELUDANDI HARSHITH', 'hu21csen0101932', '-', 5, 5)\n",
            "('D DEVI DEEKSHITHA', 'HU21CSEN0101934', 7.42, 5, 12.42)\n",
            "('PANALLI ABHISHEK', 'HU21CSEN0101993', 6.83, 5, 11.83)\n",
            "('POLAROWTHU YESWANTH', 'HU21CSEN0101995', 4.83, 5, 9.83)\n",
            "('THUMMALA VENKATA SAI SRUJANA', 'hu21csen0100686', '-', 0, 0)\n",
            "('S JYOTHI PRASAD REDDY', 'hu21csen0101380', 4.58, 0, 4.58)\n",
            "('SATHWIKA ACHUGATLA', 'hu21csen0101848', 6.58, 0, 6.58)\n",
            "('GOGINENI SUDHEER RAMANA', 'hu21csen0101874', 5.83, 0, 5.83)\n",
            "('SURAPARAJU VENKATA DIVYA', 'HU21CSEN0101957', 10.58, 0, 10.58)\n"
          ]
        }
      ]
    },
    {
      "cell_type": "code",
      "source": [
        "print(colored(\"UPDATE\",\"yellow\"))\n",
        "b.execute(\"\"\"update studentdata set quiz1=0 where quiz1=\"-\" \"\"\")\n",
        "d=b.execute(\"\"\" select * from studentdata\"\"\")\n",
        "for a in d:\n",
        "  print(a)"
      ],
      "metadata": {
        "id": "w58910cqOx9j",
        "colab": {
          "base_uri": "https://localhost:8080/"
        },
        "outputId": "7f8362bd-b747-4d8e-e70d-f45582930036"
      },
      "execution_count": null,
      "outputs": [
        {
          "output_type": "stream",
          "name": "stdout",
          "text": [
            "UPDATE\n",
            "('ALE AKSHARAVASHIST', 'hu21csen0100521', 4.5, 10, 14.5)\n",
            "('ARELLA JOSHITA CHAKRAVARTHY', 'hu21csen0100536', 10.67, 25, 35.67)\n",
            "('POCHAM VARUN', 'hu21csen0100557', 17.67, 30, 47.67)\n",
            "('PARSI SRIJANA', 'hu21csen0100566', 18.42, 15, 33.42)\n",
            "('GARLAPATI RISHITA', 'hu21csen0100576', 12.42, 20, 32.42)\n",
            "('KOMMARAJU MADHURI CHOWDARY', 'hu21csen0100597', 12.42, 25, 37.42)\n",
            "('S DEEN MOHAMMED SAIF', 'hu21csen0100621', 11.58, 25, 36.58)\n",
            "('KUDITHIPUDI PURUSHOTHAM NAIDU', 'hu21csen0100642', 11.67, 15, 26.67)\n",
            "('GIRISH REDDY KAKUMANU', 'hu21csen0100671', 12.5, 10, 22.5)\n",
            "('NAVYA SHREE', 'hu21csen0100675', 13.42, 20, 33.42)\n",
            "('THUMMALA VENKATA SAI SRUJANA', 'hu21csen0100686', 0, 0, 0)\n",
            "('SYEDA MAHREEN', 'hu21csen0100689', 8.75, 20, 28.75)\n",
            "('KARTHIK SAJJA', 'hu21csen0100735', 7.67, 10, 17.67)\n",
            "('CHANDOLU SAI ADITYA', 'hu21csen0100743', 19.67, 20, 39.67)\n",
            "('SHREYANSH VAJROJU', 'hu21csen0100746', 17.67, 20, 37.67)\n",
            "('BATHULA UDAY KUMAR', 'hu21csen0100964', 12.67, 20, 32.67)\n",
            "('ADDANKI GAYATHRI', 'hu21csen0100966', 12.42, 20, 32.42)\n",
            "('K PRATEEK REDDY', 'hu21csen0101086', 13.67, 15, 28.67)\n",
            "('TUMMALA DHANUSH CHOUDARY', 'hu21csen0101106', 9.17, 5, 14.17)\n",
            "('MAGULURI AASHRITH', 'hu21csen0101107', 17.42, 15, 32.42)\n",
            "('KANCHERLA SATHWIK', 'hu21csen0101140', 7.17, 5, 12.17)\n",
            "('GADDE NAMRATHA SAI', 'hu21csen0101151', 7.92, 15, 22.92)\n",
            "('CHERISHMA MASINA', 'hu21csen0101181', 14.67, 20, 34.67)\n",
            "('BEELA RAJ NAYANATARA', 'hu21csen0101185', 7.42, 20, 27.42)\n",
            "('VEERAM YASHASWI RAM', 'hu21csen0101193', 17.08, 25, 42.08)\n",
            "('SADWIK REDDY KUNTA', 'hu21csen0101197', 5.08, 15, 20.08)\n",
            "('CHAVVA SNEHITHA', 'hu21csen0101260', 9.17, 20, 29.17)\n",
            "('PAVAN SASHANK REDDY', 'hu21csen0101282', 12.25, 5, 17.25)\n",
            "('SAI VARUN RAJU KESHIPEDDI', 'hu21csen0101344', 19.08, 20, 39.08)\n",
            "('MERIGA SRI SAMHITH', 'hu21csen0101375', 12.67, 15, 27.67)\n",
            "('S JYOTHI PRASAD REDDY', 'hu21csen0101380', 4.58, 0, 4.58)\n",
            "('POTLAPALLI VAISSHNAVI', 'hu21csen0101528', 18.42, 20, 38.42)\n",
            "('LAKKOJU NISCHAL RAGHAVA BRAHMAJI', 'hu21csen0101556', 7.17, 15, 22.17)\n",
            "('GUTIPERAHUL', 'hu21csen0101596', 8.08, 10, 18.08)\n",
            "('SREEJA PURUSHOTHAM', 'hu21csen0101630', 8.42, 15, 23.42)\n",
            "('KORRAPATI SAMEENA', 'hu21csen0101668', 12.42, 25, 37.42)\n",
            "('PAMIDIMUNTALA LAKSHMI KARISHMA', 'hu21csen0101725', 9.92, 15, 24.92)\n",
            "('P VARSHINI', 'hu21csen0101730', 5.58, 15, 20.58)\n",
            "('TURLAPATI NAGA SAI RAM', 'hu21csen0101740', 6.92, 5, 11.92)\n",
            "('ATTA  ASISH KUMAR', 'hu21csen0101805', 12.08, 25, 37.08)\n",
            "('PERUGU LEENA SAI', 'hu21csen0101815', 18.42, 15, 33.42)\n",
            "('KANDALA RAJA GOPAL', 'hu21csen0101827', 19.67, 10, 29.67)\n",
            "('AREKATLA SASHANKA', 'hu21csen0101838', 17.67, 10, 27.67)\n",
            "('SATHWIKA ACHUGATLA', 'hu21csen0101848', 6.58, 0, 6.58)\n",
            "('BHUMIREDDYSATYATEJAREDDY', 'hu21csen0101869', 7.58, 5, 12.58)\n",
            "('GOGINENI SUDHEER RAMANA', 'hu21csen0101874', 5.83, 0, 5.83)\n",
            "('KOVVALI JAYANTH', 'hu21csen0101882', 17.33, 20, 37.33)\n",
            "('JAYAABHIRAM KAJA', 'hu21csen0101884', 11.08, 15, 26.08)\n",
            "('SAI HARSHIT', 'hu21csen0101891', 18.42, 10, 28.42)\n",
            "('VELUDANDI HARSHITH', 'hu21csen0101932', 0, 5, 5)\n",
            "('D DEVI DEEKSHITHA', 'HU21CSEN0101934', 7.42, 5, 12.42)\n",
            "('GADESULA LOKESH', 'HU21CSEN0101947', 10.67, 15, 25.67)\n",
            "('UPPARA BINDU SREE', 'HU21CSEN0101952', 0, 15, 15)\n",
            "('KRITHIKA BADIREDDY', 'HU21CSEN0101955', 17.17, 10, 27.17)\n",
            "('SURAPARAJU VENKATA DIVYA', 'HU21CSEN0101957', 10.58, 0, 10.58)\n",
            "('PANALLI ABHISHEK', 'HU21CSEN0101993', 6.83, 5, 11.83)\n",
            "('POLAROWTHU YESWANTH', 'HU21CSEN0101995', 4.83, 5, 9.83)\n",
            "('GARIKAPATI VENKATA GOPI KRISHNA', 'HU21CSEN0102000', 11.92, 25, 36.92)\n",
            "('G VIVEK', 'HU21CSEN0102002', 4.5, 20, 24.5)\n",
            "('VISWAHITHA BADDULA', 'HU21CSEN0102011', 4.58, 10, 14.58)\n",
            "('KOTHURU MOHAN THOSHIK', 'HU21CSEN0102057', 13.25, 20, 33.25)\n"
          ]
        }
      ]
    },
    {
      "cell_type": "code",
      "source": [
        "print(colored(\"DELETE\",\"magenta\"))\n",
        "b.execute(\"\"\" delete from studentdata where quiz1=0 \"\"\")\n",
        "d=b.execute(\"\"\" select * from studentdata\"\"\")\n",
        "for a in d:\n",
        "  print(a)"
      ],
      "metadata": {
        "id": "VvFcbCRAO2qJ",
        "colab": {
          "base_uri": "https://localhost:8080/"
        },
        "outputId": "f930c37b-7928-4ea9-e19b-bcf46a3bdc01"
      },
      "execution_count": null,
      "outputs": [
        {
          "output_type": "stream",
          "name": "stdout",
          "text": [
            "DELETE\n",
            "('ALE AKSHARAVASHIST', 'hu21csen0100521', 4.5, 10, 14.5)\n",
            "('ARELLA JOSHITA CHAKRAVARTHY', 'hu21csen0100536', 10.67, 25, 35.67)\n",
            "('POCHAM VARUN', 'hu21csen0100557', 17.67, 30, 47.67)\n",
            "('PARSI SRIJANA', 'hu21csen0100566', 18.42, 15, 33.42)\n",
            "('GARLAPATI RISHITA', 'hu21csen0100576', 12.42, 20, 32.42)\n",
            "('KOMMARAJU MADHURI CHOWDARY', 'hu21csen0100597', 12.42, 25, 37.42)\n",
            "('S DEEN MOHAMMED SAIF', 'hu21csen0100621', 11.58, 25, 36.58)\n",
            "('KUDITHIPUDI PURUSHOTHAM NAIDU', 'hu21csen0100642', 11.67, 15, 26.67)\n",
            "('GIRISH REDDY KAKUMANU', 'hu21csen0100671', 12.5, 10, 22.5)\n",
            "('NAVYA SHREE', 'hu21csen0100675', 13.42, 20, 33.42)\n",
            "('SYEDA MAHREEN', 'hu21csen0100689', 8.75, 20, 28.75)\n",
            "('KARTHIK SAJJA', 'hu21csen0100735', 7.67, 10, 17.67)\n",
            "('CHANDOLU SAI ADITYA', 'hu21csen0100743', 19.67, 20, 39.67)\n",
            "('SHREYANSH VAJROJU', 'hu21csen0100746', 17.67, 20, 37.67)\n",
            "('BATHULA UDAY KUMAR', 'hu21csen0100964', 12.67, 20, 32.67)\n",
            "('ADDANKI GAYATHRI', 'hu21csen0100966', 12.42, 20, 32.42)\n",
            "('K PRATEEK REDDY', 'hu21csen0101086', 13.67, 15, 28.67)\n",
            "('TUMMALA DHANUSH CHOUDARY', 'hu21csen0101106', 9.17, 5, 14.17)\n",
            "('MAGULURI AASHRITH', 'hu21csen0101107', 17.42, 15, 32.42)\n",
            "('KANCHERLA SATHWIK', 'hu21csen0101140', 7.17, 5, 12.17)\n",
            "('GADDE NAMRATHA SAI', 'hu21csen0101151', 7.92, 15, 22.92)\n",
            "('CHERISHMA MASINA', 'hu21csen0101181', 14.67, 20, 34.67)\n",
            "('BEELA RAJ NAYANATARA', 'hu21csen0101185', 7.42, 20, 27.42)\n",
            "('VEERAM YASHASWI RAM', 'hu21csen0101193', 17.08, 25, 42.08)\n",
            "('SADWIK REDDY KUNTA', 'hu21csen0101197', 5.08, 15, 20.08)\n",
            "('CHAVVA SNEHITHA', 'hu21csen0101260', 9.17, 20, 29.17)\n",
            "('PAVAN SASHANK REDDY', 'hu21csen0101282', 12.25, 5, 17.25)\n",
            "('SAI VARUN RAJU KESHIPEDDI', 'hu21csen0101344', 19.08, 20, 39.08)\n",
            "('MERIGA SRI SAMHITH', 'hu21csen0101375', 12.67, 15, 27.67)\n",
            "('S JYOTHI PRASAD REDDY', 'hu21csen0101380', 4.58, 0, 4.58)\n",
            "('POTLAPALLI VAISSHNAVI', 'hu21csen0101528', 18.42, 20, 38.42)\n",
            "('LAKKOJU NISCHAL RAGHAVA BRAHMAJI', 'hu21csen0101556', 7.17, 15, 22.17)\n",
            "('GUTIPERAHUL', 'hu21csen0101596', 8.08, 10, 18.08)\n",
            "('SREEJA PURUSHOTHAM', 'hu21csen0101630', 8.42, 15, 23.42)\n",
            "('KORRAPATI SAMEENA', 'hu21csen0101668', 12.42, 25, 37.42)\n",
            "('PAMIDIMUNTALA LAKSHMI KARISHMA', 'hu21csen0101725', 9.92, 15, 24.92)\n",
            "('P VARSHINI', 'hu21csen0101730', 5.58, 15, 20.58)\n",
            "('TURLAPATI NAGA SAI RAM', 'hu21csen0101740', 6.92, 5, 11.92)\n",
            "('ATTA  ASISH KUMAR', 'hu21csen0101805', 12.08, 25, 37.08)\n",
            "('PERUGU LEENA SAI', 'hu21csen0101815', 18.42, 15, 33.42)\n",
            "('KANDALA RAJA GOPAL', 'hu21csen0101827', 19.67, 10, 29.67)\n",
            "('AREKATLA SASHANKA', 'hu21csen0101838', 17.67, 10, 27.67)\n",
            "('SATHWIKA ACHUGATLA', 'hu21csen0101848', 6.58, 0, 6.58)\n",
            "('BHUMIREDDYSATYATEJAREDDY', 'hu21csen0101869', 7.58, 5, 12.58)\n",
            "('GOGINENI SUDHEER RAMANA', 'hu21csen0101874', 5.83, 0, 5.83)\n",
            "('KOVVALI JAYANTH', 'hu21csen0101882', 17.33, 20, 37.33)\n",
            "('JAYAABHIRAM KAJA', 'hu21csen0101884', 11.08, 15, 26.08)\n",
            "('SAI HARSHIT', 'hu21csen0101891', 18.42, 10, 28.42)\n",
            "('D DEVI DEEKSHITHA', 'HU21CSEN0101934', 7.42, 5, 12.42)\n",
            "('GADESULA LOKESH', 'HU21CSEN0101947', 10.67, 15, 25.67)\n",
            "('KRITHIKA BADIREDDY', 'HU21CSEN0101955', 17.17, 10, 27.17)\n",
            "('SURAPARAJU VENKATA DIVYA', 'HU21CSEN0101957', 10.58, 0, 10.58)\n",
            "('PANALLI ABHISHEK', 'HU21CSEN0101993', 6.83, 5, 11.83)\n",
            "('POLAROWTHU YESWANTH', 'HU21CSEN0101995', 4.83, 5, 9.83)\n",
            "('GARIKAPATI VENKATA GOPI KRISHNA', 'HU21CSEN0102000', 11.92, 25, 36.92)\n",
            "('G VIVEK', 'HU21CSEN0102002', 4.5, 20, 24.5)\n",
            "('VISWAHITHA BADDULA', 'HU21CSEN0102011', 4.58, 10, 14.58)\n",
            "('KOTHURU MOHAN THOSHIK', 'HU21CSEN0102057', 13.25, 20, 33.25)\n"
          ]
        }
      ]
    },
    {
      "cell_type": "code",
      "source": [
        "print(colored(\"MAX & MIN & AVG\",\"red\"))\n",
        "j=b.execute(\"\"\" select min(mid1) from studentdata \"\"\")\n",
        "for k in j:\n",
        "  print(k)\n",
        "k=b.execute(\"\"\" select max(quiz1) from studentdata \"\"\")\n",
        "for l in k:\n",
        "  print(l)\n",
        "k=b.execute(\"\"\" select avg(total) from studentdata \"\"\")\n",
        "for l in k:\n",
        "  print(l)"
      ],
      "metadata": {
        "id": "F3Bw-O5xO6MR",
        "colab": {
          "base_uri": "https://localhost:8080/"
        },
        "outputId": "60a96115-3d60-434e-e1de-1f185e856c27"
      },
      "execution_count": null,
      "outputs": [
        {
          "output_type": "stream",
          "name": "stdout",
          "text": [
            "MAX & MIN & AVG\n",
            "(0,)\n",
            "(19.67,)\n",
            "(26.03120689655172,)\n"
          ]
        }
      ]
    },
    {
      "cell_type": "code",
      "source": [
        "print(colored(\"ALTER\",\"blue\"))\n",
        "b.execute(\"\"\" alter table studentdata add grade text \"\"\")\n",
        "d=b.execute(\"\"\" select * from studentdata\"\"\")\n",
        "for a in d:\n",
        "  print(a)"
      ],
      "metadata": {
        "id": "AIGjtOYZPAxw",
        "colab": {
          "base_uri": "https://localhost:8080/"
        },
        "outputId": "729d41d6-e70d-4060-f15b-59dfec5eb207"
      },
      "execution_count": null,
      "outputs": [
        {
          "output_type": "stream",
          "name": "stdout",
          "text": [
            "ALTER\n",
            "('ALE AKSHARAVASHIST', 'hu21csen0100521', 4.5, 10, 14.5, None)\n",
            "('ARELLA JOSHITA CHAKRAVARTHY', 'hu21csen0100536', 10.67, 25, 35.67, None)\n",
            "('POCHAM VARUN', 'hu21csen0100557', 17.67, 30, 47.67, None)\n",
            "('PARSI SRIJANA', 'hu21csen0100566', 18.42, 15, 33.42, None)\n",
            "('GARLAPATI RISHITA', 'hu21csen0100576', 12.42, 20, 32.42, None)\n",
            "('KOMMARAJU MADHURI CHOWDARY', 'hu21csen0100597', 12.42, 25, 37.42, None)\n",
            "('S DEEN MOHAMMED SAIF', 'hu21csen0100621', 11.58, 25, 36.58, None)\n",
            "('KUDITHIPUDI PURUSHOTHAM NAIDU', 'hu21csen0100642', 11.67, 15, 26.67, None)\n",
            "('GIRISH REDDY KAKUMANU', 'hu21csen0100671', 12.5, 10, 22.5, None)\n",
            "('NAVYA SHREE', 'hu21csen0100675', 13.42, 20, 33.42, None)\n",
            "('SYEDA MAHREEN', 'hu21csen0100689', 8.75, 20, 28.75, None)\n",
            "('KARTHIK SAJJA', 'hu21csen0100735', 7.67, 10, 17.67, None)\n",
            "('CHANDOLU SAI ADITYA', 'hu21csen0100743', 19.67, 20, 39.67, None)\n",
            "('SHREYANSH VAJROJU', 'hu21csen0100746', 17.67, 20, 37.67, None)\n",
            "('BATHULA UDAY KUMAR', 'hu21csen0100964', 12.67, 20, 32.67, None)\n",
            "('ADDANKI GAYATHRI', 'hu21csen0100966', 12.42, 20, 32.42, None)\n",
            "('K PRATEEK REDDY', 'hu21csen0101086', 13.67, 15, 28.67, None)\n",
            "('TUMMALA DHANUSH CHOUDARY', 'hu21csen0101106', 9.17, 5, 14.17, None)\n",
            "('MAGULURI AASHRITH', 'hu21csen0101107', 17.42, 15, 32.42, None)\n",
            "('KANCHERLA SATHWIK', 'hu21csen0101140', 7.17, 5, 12.17, None)\n",
            "('GADDE NAMRATHA SAI', 'hu21csen0101151', 7.92, 15, 22.92, None)\n",
            "('CHERISHMA MASINA', 'hu21csen0101181', 14.67, 20, 34.67, None)\n",
            "('BEELA RAJ NAYANATARA', 'hu21csen0101185', 7.42, 20, 27.42, None)\n",
            "('VEERAM YASHASWI RAM', 'hu21csen0101193', 17.08, 25, 42.08, None)\n",
            "('SADWIK REDDY KUNTA', 'hu21csen0101197', 5.08, 15, 20.08, None)\n",
            "('CHAVVA SNEHITHA', 'hu21csen0101260', 9.17, 20, 29.17, None)\n",
            "('PAVAN SASHANK REDDY', 'hu21csen0101282', 12.25, 5, 17.25, None)\n",
            "('SAI VARUN RAJU KESHIPEDDI', 'hu21csen0101344', 19.08, 20, 39.08, None)\n",
            "('MERIGA SRI SAMHITH', 'hu21csen0101375', 12.67, 15, 27.67, None)\n",
            "('S JYOTHI PRASAD REDDY', 'hu21csen0101380', 4.58, 0, 4.58, None)\n",
            "('POTLAPALLI VAISSHNAVI', 'hu21csen0101528', 18.42, 20, 38.42, None)\n",
            "('LAKKOJU NISCHAL RAGHAVA BRAHMAJI', 'hu21csen0101556', 7.17, 15, 22.17, None)\n",
            "('GUTIPERAHUL', 'hu21csen0101596', 8.08, 10, 18.08, None)\n",
            "('SREEJA PURUSHOTHAM', 'hu21csen0101630', 8.42, 15, 23.42, None)\n",
            "('KORRAPATI SAMEENA', 'hu21csen0101668', 12.42, 25, 37.42, None)\n",
            "('PAMIDIMUNTALA LAKSHMI KARISHMA', 'hu21csen0101725', 9.92, 15, 24.92, None)\n",
            "('P VARSHINI', 'hu21csen0101730', 5.58, 15, 20.58, None)\n",
            "('TURLAPATI NAGA SAI RAM', 'hu21csen0101740', 6.92, 5, 11.92, None)\n",
            "('ATTA  ASISH KUMAR', 'hu21csen0101805', 12.08, 25, 37.08, None)\n",
            "('PERUGU LEENA SAI', 'hu21csen0101815', 18.42, 15, 33.42, None)\n",
            "('KANDALA RAJA GOPAL', 'hu21csen0101827', 19.67, 10, 29.67, None)\n",
            "('AREKATLA SASHANKA', 'hu21csen0101838', 17.67, 10, 27.67, None)\n",
            "('SATHWIKA ACHUGATLA', 'hu21csen0101848', 6.58, 0, 6.58, None)\n",
            "('BHUMIREDDYSATYATEJAREDDY', 'hu21csen0101869', 7.58, 5, 12.58, None)\n",
            "('GOGINENI SUDHEER RAMANA', 'hu21csen0101874', 5.83, 0, 5.83, None)\n",
            "('KOVVALI JAYANTH', 'hu21csen0101882', 17.33, 20, 37.33, None)\n",
            "('JAYAABHIRAM KAJA', 'hu21csen0101884', 11.08, 15, 26.08, None)\n",
            "('SAI HARSHIT', 'hu21csen0101891', 18.42, 10, 28.42, None)\n",
            "('D DEVI DEEKSHITHA', 'HU21CSEN0101934', 7.42, 5, 12.42, None)\n",
            "('GADESULA LOKESH', 'HU21CSEN0101947', 10.67, 15, 25.67, None)\n",
            "('KRITHIKA BADIREDDY', 'HU21CSEN0101955', 17.17, 10, 27.17, None)\n",
            "('SURAPARAJU VENKATA DIVYA', 'HU21CSEN0101957', 10.58, 0, 10.58, None)\n",
            "('PANALLI ABHISHEK', 'HU21CSEN0101993', 6.83, 5, 11.83, None)\n",
            "('POLAROWTHU YESWANTH', 'HU21CSEN0101995', 4.83, 5, 9.83, None)\n",
            "('GARIKAPATI VENKATA GOPI KRISHNA', 'HU21CSEN0102000', 11.92, 25, 36.92, None)\n",
            "('G VIVEK', 'HU21CSEN0102002', 4.5, 20, 24.5, None)\n",
            "('VISWAHITHA BADDULA', 'HU21CSEN0102011', 4.58, 10, 14.58, None)\n",
            "('KOTHURU MOHAN THOSHIK', 'HU21CSEN0102057', 13.25, 20, 33.25, None)\n"
          ]
        }
      ]
    },
    {
      "cell_type": "code",
      "source": [
        "import pandas as pd\n",
        "excel_file = 'eg.xlsx'\n",
        "df = pd.read_excel(excel_file)\n",
        "csv_file = 'output_csv_file.csv'\n",
        "df.to_csv(csv_file, index=False)"
      ],
      "metadata": {
        "id": "6QAaf-0ERcrl"
      },
      "execution_count": null,
      "outputs": []
    },
    {
      "cell_type": "code",
      "source": [
        "import pandas as pd\n",
        "file_path = 'output_csv_file.csv'\n",
        "data = pd.read_csv(file_path)"
      ],
      "metadata": {
        "id": "Egvq1iXDXUvY"
      },
      "execution_count": null,
      "outputs": []
    },
    {
      "cell_type": "code",
      "source": [
        "import matplotlib.pyplot as plt\n",
        "\n",
        "# Histogram for Quiz-1 scores\n",
        "plt.hist(data['Quiz: Quiz-1 (Real)'], bins=10, color='skyblue', edgecolor='black')\n",
        "plt.title('Distribution of Quiz-1 Scores')\n",
        "plt.xlabel('Quiz-1 Scores')\n",
        "plt.ylabel('Frequency')\n",
        "plt.xticks([])\n",
        "plt.show()\n"
      ],
      "metadata": {
        "colab": {
          "base_uri": "https://localhost:8080/",
          "height": 448
        },
        "id": "XYG0YcHKWP6m",
        "outputId": "27584df1-a94e-4645-879c-8181314dc905"
      },
      "execution_count": null,
      "outputs": [
        {
          "output_type": "display_data",
          "data": {
            "text/plain": [
              "<Figure size 640x480 with 1 Axes>"
            ],
            "image/png": "[encoded data removed]"
          },
          "metadata": {}
        }
      ]
    },
    {
      "cell_type": "code",
      "source": [
        "# Bar chart for course total scores\n",
        "plt.bar(data['Surname'], data['Course total (Real)'], color='lightcoral')\n",
        "plt.title('Course Total Scores')\n",
        "plt.xlabel('Students')\n",
        "plt.ylabel('Course Total Scores')\n",
        "plt.xticks(rotation=90)\n",
        "plt.xticks([])\n",
        "plt.show()\n"
      ],
      "metadata": {
        "colab": {
          "base_uri": "https://localhost:8080/",
          "height": 448
        },
        "id": "IJSMVbs7Y64m",
        "outputId": "0bfa11c8-b19d-4e9e-a4ff-d22b3f921e26"
      },
      "execution_count": null,
      "outputs": [
        {
          "output_type": "display_data",
          "data": {
            "text/plain": [
              "<Figure size 640x480 with 1 Axes>"
            ],
            "image/png": "[encoded data removed]"
          },
          "metadata": {}
        }
      ]
    },
    {
      "cell_type": "code",
      "source": [
        "# Scatter plot for Quiz-1 vs Mid1 scores\n",
        "plt.scatter(data['Quiz: Quiz-1 (Real)'], data['Quiz: Mid1 (Real)'], color='green')\n",
        "plt.title('Quiz-1 vs Mid1 Scores')\n",
        "plt.xlabel('Quiz-1 Scores')\n",
        "plt.ylabel('Mid1 Scores')\n",
        "plt.xticks([])\n",
        "plt.show()\n"
      ],
      "metadata": {
        "colab": {
          "base_uri": "https://localhost:8080/",
          "height": 448
        },
        "id": "Wdyx_5_jaYIr",
        "outputId": "dc5b71df-aea7-42d9-e15d-5406ee0dbb75"
      },
      "execution_count": null,
      "outputs": [
        {
          "output_type": "display_data",
          "data": {
            "text/plain": [
              "<Figure size 640x480 with 1 Axes>"
            ],
            "image/png": "[encoded data removed]"
          },
          "metadata": {}
        }
      ]
    },
    {
      "cell_type": "code",
      "source": [
        "# Line plot for individual student performance\n",
        "plt.plot(data['Surname'], data['Quiz: Quiz-1 (Real)'], marker='o', label='Quiz-1')\n",
        "plt.plot(data['Surname'], data['Quiz: Mid1 (Real)'], marker='x', label='Mid1')\n",
        "plt.plot(data['Surname'], data['Course total (Real)'], marker='s', label='Course Total')\n",
        "plt.title('Student Performance')\n",
        "plt.xlabel('Students')\n",
        "plt.xticks([])\n",
        "plt.ylabel('Scores')\n",
        "plt.xticks(rotation=90)\n",
        "plt.legend()\n",
        "plt.show()\n"
      ],
      "metadata": {
        "colab": {
          "base_uri": "https://localhost:8080/",
          "height": 448
        },
        "id": "EXJDyxUkaamc",
        "outputId": "c1c464a5-e7b1-472f-f46e-4ebd82809a85"
      },
      "execution_count": null,
      "outputs": [
        {
          "output_type": "display_data",
          "data": {
            "text/plain": [
              "<Figure size 640x480 with 1 Axes>"
            ],
            "image/png": "[encoded data removed]"
          },
          "metadata": {}
        }
      ]
    },
    {
      "cell_type": "code",
      "source": [
        "import plotly.graph_objects as go\n",
        "fig = go.Figure()\n",
        "fig.add_trace(go.Scatter(x=data['Surname'], y=data['Quiz: Quiz-1 (Real)'], mode='markers+lines', name='Quiz-1'))\n",
        "fig.add_trace(go.Scatter(x=data['Surname'], y=data['Quiz: Mid1 (Real)'], mode='markers+lines', name='Mid1'))\n",
        "fig.add_trace(go.Scatter(x=data['Surname'], y=data['Course total (Real)'], mode='markers+lines', name='Course Total'))\n",
        "fig.update_layout(title='Student Performance', xaxis_title='Students', yaxis_title='Scores')\n",
        "fig.show()"
      ],
      "metadata": {
        "colab": {
          "base_uri": "https://localhost:8080/",
          "height": 542
        },
        "id": "jE2zLMy9c4Qh",
        "outputId": "0ac02293-8dba-430c-bd9f-4469f120859b"
      },
      "execution_count": null,
      "outputs": [
        {
          "output_type": "display_data",
          "data": {
            "text/html": [
              "<html>\n",
              "<head><meta charset=\"utf-8\" /></head>\n",
              "<body>\n",
              "    <div>            <script src=\"https://cdnjs.cloudflare.com/ajax/libs/mathjax/2.7.5/MathJax.js?config=TeX-AMS-MML_SVG\"></script><script type=\"text/javascript\">if (window.MathJax && window.MathJax.Hub && window.MathJax.Hub.Config) {window.MathJax.Hub.Config({SVG: {font: \"STIX-Web\"}});}</script>                <script type=\"text/javascript\">window.PlotlyConfig = {MathJaxConfig: 'local'};</script>\n",
              "        <script charset=\"utf-8\" src=\"https://cdn.plot.ly/plotly-2.24.1.min.js\"></script>                <div id=\"73586400-9f66-4e0e-80a5-5a512b136588\" class=\"plotly-graph-div\" style=\"height:525px; width:100%;\"></div>            <script type=\"text/javascript\">                                    window.PLOTLYENV=window.PLOTLYENV || {};                                    if (document.getElementById(\"73586400-9f66-4e0e-80a5-5a512b136588\")) {                    Plotly.newPlot(                        \"73586400-9f66-4e0e-80a5-5a512b136588\",                        [{\"mode\":\"markers+lines\",\"name\":\"Quiz-1\",\"x\":[\"hu21csen0100521\",\"hu21csen0100536\",\"hu21csen0100557\",\"hu21csen0100566\",\"hu21csen0100576\",\"hu21csen0100597\",\"hu21csen0100621\",\"hu21csen0100642\",\"hu21csen0100671\",\"hu21csen0100675\",\"hu21csen0100686\",\"hu21csen0100689\",\"hu21csen0100735\",\"hu21csen0100743\",\"hu21csen0100746\",\"hu21csen0100964\",\"hu21csen0100966\",\"hu21csen0101086\",\"hu21csen0101106\",\"hu21csen0101107\",\"hu21csen0101140\",\"hu21csen0101151\",\"hu21csen0101181\",\"hu21csen0101185\",\"hu21csen0101193\",\"hu21csen0101197\",\"hu21csen0101260\",\"hu21csen0101282\",\"hu21csen0101344\",\"hu21csen0101375\",\"hu21csen0101380\",\"hu21csen0101528\",\"hu21csen0101556\",\"hu21csen0101596\",\"hu21csen0101630\",\"hu21csen0101668\",\"hu21csen0101725\",\"hu21csen0101730\",\"hu21csen0101740\",\"hu21csen0101805\",\"hu21csen0101815\",\"hu21csen0101827\",\"hu21csen0101838\",\"hu21csen0101848\",\"hu21csen0101869\",\"hu21csen0101874\",\"hu21csen0101882\",\"hu21csen0101884\",\"hu21csen0101891\",\"hu21csen0101932\",\"HU21CSEN0101934\",\"HU21CSEN0101947\",\"HU21CSEN0101952\",\"HU21CSEN0101955\",\"HU21CSEN0101957\",\"HU21CSEN0101993\",\"HU21CSEN0101995\",\"HU21CSEN0102000\",\"HU21CSEN0102002\",\"HU21CSEN0102011\",\"HU21CSEN0102057\"],\"y\":[\"4.5\",\"10.67\",\"17.67\",\"18.42\",\"12.42\",\"12.42\",\"11.58\",\"11.67\",\"12.5\",\"13.42\",\"-\",\"8.75\",\"7.67\",\"19.67\",\"17.67\",\"12.67\",\"12.42\",\"13.67\",\"9.17\",\"17.42\",\"7.17\",\"7.92\",\"14.67\",\"7.42\",\"17.08\",\"5.08\",\"9.17\",\"12.25\",\"19.08\",\"12.67\",\"4.58\",\"18.42\",\"7.17\",\"8.08\",\"8.42\",\"12.42\",\"9.92\",\"5.58\",\"6.92\",\"12.08\",\"18.42\",\"19.67\",\"17.67\",\"6.58\",\"7.58\",\"5.83\",\"17.33\",\"11.08\",\"18.42\",\"-\",\"7.42\",\"10.67\",\"-\",\"17.17\",\"10.58\",\"6.83\",\"4.83\",\"11.92\",\"4.5\",\"4.58\",\"13.25\"],\"type\":\"scatter\"},{\"mode\":\"markers+lines\",\"name\":\"Mid1\",\"x\":[\"hu21csen0100521\",\"hu21csen0100536\",\"hu21csen0100557\",\"hu21csen0100566\",\"hu21csen0100576\",\"hu21csen0100597\",\"hu21csen0100621\",\"hu21csen0100642\",\"hu21csen0100671\",\"hu21csen0100675\",\"hu21csen0100686\",\"hu21csen0100689\",\"hu21csen0100735\",\"hu21csen0100743\",\"hu21csen0100746\",\"hu21csen0100964\",\"hu21csen0100966\",\"hu21csen0101086\",\"hu21csen0101106\",\"hu21csen0101107\",\"hu21csen0101140\",\"hu21csen0101151\",\"hu21csen0101181\",\"hu21csen0101185\",\"hu21csen0101193\",\"hu21csen0101197\",\"hu21csen0101260\",\"hu21csen0101282\",\"hu21csen0101344\",\"hu21csen0101375\",\"hu21csen0101380\",\"hu21csen0101528\",\"hu21csen0101556\",\"hu21csen0101596\",\"hu21csen0101630\",\"hu21csen0101668\",\"hu21csen0101725\",\"hu21csen0101730\",\"hu21csen0101740\",\"hu21csen0101805\",\"hu21csen0101815\",\"hu21csen0101827\",\"hu21csen0101838\",\"hu21csen0101848\",\"hu21csen0101869\",\"hu21csen0101874\",\"hu21csen0101882\",\"hu21csen0101884\",\"hu21csen0101891\",\"hu21csen0101932\",\"HU21CSEN0101934\",\"HU21CSEN0101947\",\"HU21CSEN0101952\",\"HU21CSEN0101955\",\"HU21CSEN0101957\",\"HU21CSEN0101993\",\"HU21CSEN0101995\",\"HU21CSEN0102000\",\"HU21CSEN0102002\",\"HU21CSEN0102011\",\"HU21CSEN0102057\"],\"y\":[10,25,30,15,20,25,25,15,10,20,0,20,10,20,20,20,20,15,5,15,5,15,20,20,25,15,20,5,20,15,0,20,15,10,15,25,15,15,5,25,15,10,10,0,5,0,20,15,10,5,5,15,15,10,0,5,5,25,20,10,20],\"type\":\"scatter\"},{\"mode\":\"markers+lines\",\"name\":\"Course Total\",\"x\":[\"hu21csen0100521\",\"hu21csen0100536\",\"hu21csen0100557\",\"hu21csen0100566\",\"hu21csen0100576\",\"hu21csen0100597\",\"hu21csen0100621\",\"hu21csen0100642\",\"hu21csen0100671\",\"hu21csen0100675\",\"hu21csen0100686\",\"hu21csen0100689\",\"hu21csen0100735\",\"hu21csen0100743\",\"hu21csen0100746\",\"hu21csen0100964\",\"hu21csen0100966\",\"hu21csen0101086\",\"hu21csen0101106\",\"hu21csen0101107\",\"hu21csen0101140\",\"hu21csen0101151\",\"hu21csen0101181\",\"hu21csen0101185\",\"hu21csen0101193\",\"hu21csen0101197\",\"hu21csen0101260\",\"hu21csen0101282\",\"hu21csen0101344\",\"hu21csen0101375\",\"hu21csen0101380\",\"hu21csen0101528\",\"hu21csen0101556\",\"hu21csen0101596\",\"hu21csen0101630\",\"hu21csen0101668\",\"hu21csen0101725\",\"hu21csen0101730\",\"hu21csen0101740\",\"hu21csen0101805\",\"hu21csen0101815\",\"hu21csen0101827\",\"hu21csen0101838\",\"hu21csen0101848\",\"hu21csen0101869\",\"hu21csen0101874\",\"hu21csen0101882\",\"hu21csen0101884\",\"hu21csen0101891\",\"hu21csen0101932\",\"HU21CSEN0101934\",\"HU21CSEN0101947\",\"HU21CSEN0101952\",\"HU21CSEN0101955\",\"HU21CSEN0101957\",\"HU21CSEN0101993\",\"HU21CSEN0101995\",\"HU21CSEN0102000\",\"HU21CSEN0102002\",\"HU21CSEN0102011\",\"HU21CSEN0102057\"],\"y\":[14.5,35.67,47.67,33.42,32.42,37.42,36.58,26.67,22.5,33.42,0.0,28.75,17.67,39.67,37.67,32.67,32.42,28.67,14.17,32.42,12.17,22.92,34.67,27.42,42.08,20.08,29.17,17.25,39.08,27.67,4.58,38.42,22.17,18.08,23.42,37.42,24.92,20.58,11.92,37.08,33.42,29.67,27.67,6.58,12.58,5.83,37.33,26.08,28.42,5.0,12.42,25.67,15.0,27.17,10.58,11.83,9.83,36.92,24.5,14.58,33.25],\"type\":\"scatter\"}],                        {\"template\":{\"data\":{\"histogram2dcontour\":[{\"type\":\"histogram2dcontour\",\"colorbar\":{\"outlinewidth\":0,\"ticks\":\"\"},\"colorscale\":[[0.0,\"#0d0887\"],[0.1111111111111111,\"#46039f\"],[0.2222222222222222,\"#7201a8\"],[0.3333333333333333,\"#9c179e\"],[0.4444444444444444,\"#bd3786\"],[0.5555555555555556,\"#d8576b\"],[0.6666666666666666,\"#ed7953\"],[0.7777777777777778,\"#fb9f3a\"],[0.8888888888888888,\"#fdca26\"],[1.0,\"#f0f921\"]]}],\"choropleth\":[{\"type\":\"choropleth\",\"colorbar\":{\"outlinewidth\":0,\"ticks\":\"\"}}],\"histogram2d\":[{\"type\":\"histogram2d\",\"colorbar\":{\"outlinewidth\":0,\"ticks\":\"\"},\"colorscale\":[[0.0,\"#0d0887\"],[0.1111111111111111,\"#46039f\"],[0.2222222222222222,\"#7201a8\"],[0.3333333333333333,\"#9c179e\"],[0.4444444444444444,\"#bd3786\"],[0.5555555555555556,\"#d8576b\"],[0.6666666666666666,\"#ed7953\"],[0.7777777777777778,\"#fb9f3a\"],[0.8888888888888888,\"#fdca26\"],[1.0,\"#f0f921\"]]}],\"heatmap\":[{\"type\":\"heatmap\",\"colorbar\":{\"outlinewidth\":0,\"ticks\":\"\"},\"colorscale\":[[0.0,\"#0d0887\"],[0.1111111111111111,\"#46039f\"],[0.2222222222222222,\"#7201a8\"],[0.3333333333333333,\"#9c179e\"],[0.4444444444444444,\"#bd3786\"],[0.5555555555555556,\"#d8576b\"],[0.6666666666666666,\"#ed7953\"],[0.7777777777777778,\"#fb9f3a\"],[0.8888888888888888,\"#fdca26\"],[1.0,\"#f0f921\"]]}],\"heatmapgl\":[{\"type\":\"heatmapgl\",\"colorbar\":{\"outlinewidth\":0,\"ticks\":\"\"},\"colorscale\":[[0.0,\"#0d0887\"],[0.1111111111111111,\"#46039f\"],[0.2222222222222222,\"#7201a8\"],[0.3333333333333333,\"#9c179e\"],[0.4444444444444444,\"#bd3786\"],[0.5555555555555556,\"#d8576b\"],[0.6666666666666666,\"#ed7953\"],[0.7777777777777778,\"#fb9f3a\"],[0.8888888888888888,\"#fdca26\"],[1.0,\"#f0f921\"]]}],\"contourcarpet\":[{\"type\":\"contourcarpet\",\"colorbar\":{\"outlinewidth\":0,\"ticks\":\"\"}}],\"contour\":[{\"type\":\"contour\",\"colorbar\":{\"outlinewidth\":0,\"ticks\":\"\"},\"colorscale\":[[0.0,\"#0d0887\"],[0.1111111111111111,\"#46039f\"],[0.2222222222222222,\"#7201a8\"],[0.3333333333333333,\"#9c179e\"],[0.4444444444444444,\"#bd3786\"],[0.5555555555555556,\"#d8576b\"],[0.6666666666666666,\"#ed7953\"],[0.7777777777777778,\"#fb9f3a\"],[0.8888888888888888,\"#fdca26\"],[1.0,\"#f0f921\"]]}],\"surface\":[{\"type\":\"surface\",\"colorbar\":{\"outlinewidth\":0,\"ticks\":\"\"},\"colorscale\":[[0.0,\"#0d0887\"],[0.1111111111111111,\"#46039f\"],[0.2222222222222222,\"#7201a8\"],[0.3333333333333333,\"#9c179e\"],[0.4444444444444444,\"#bd3786\"],[0.5555555555555556,\"#d8576b\"],[0.6666666666666666,\"#ed7953\"],[0.7777777777777778,\"#fb9f3a\"],[0.8888888888888888,\"#fdca26\"],[1.0,\"#f0f921\"]]}],\"mesh3d\":[{\"type\":\"mesh3d\",\"colorbar\":{\"outlinewidth\":0,\"ticks\":\"\"}}],\"scatter\":[{\"fillpattern\":{\"fillmode\":\"overlay\",\"size\":10,\"solidity\":0.2},\"type\":\"scatter\"}],\"parcoords\":[{\"type\":\"parcoords\",\"line\":{\"colorbar\":{\"outlinewidth\":0,\"ticks\":\"\"}}}],\"scatterpolargl\":[{\"type\":\"scatterpolargl\",\"marker\":{\"colorbar\":{\"outlinewidth\":0,\"ticks\":\"\"}}}],\"bar\":[{\"error_x\":{\"color\":\"#2a3f5f\"},\"error_y\":{\"color\":\"#2a3f5f\"},\"marker\":{\"line\":{\"color\":\"#E5ECF6\",\"width\":0.5},\"pattern\":{\"fillmode\":\"overlay\",\"size\":10,\"solidity\":0.2}},\"type\":\"bar\"}],\"scattergeo\":[{\"type\":\"scattergeo\",\"marker\":{\"colorbar\":{\"outlinewidth\":0,\"ticks\":\"\"}}}],\"scatterpolar\":[{\"type\":\"scatterpolar\",\"marker\":{\"colorbar\":{\"outlinewidth\":0,\"ticks\":\"\"}}}],\"histogram\":[{\"marker\":{\"pattern\":{\"fillmode\":\"overlay\",\"size\":10,\"solidity\":0.2}},\"type\":\"histogram\"}],\"scattergl\":[{\"type\":\"scattergl\",\"marker\":{\"colorbar\":{\"outlinewidth\":0,\"ticks\":\"\"}}}],\"scatter3d\":[{\"type\":\"scatter3d\",\"line\":{\"colorbar\":{\"outlinewidth\":0,\"ticks\":\"\"}},\"marker\":{\"colorbar\":{\"outlinewidth\":0,\"ticks\":\"\"}}}],\"scattermapbox\":[{\"type\":\"scattermapbox\",\"marker\":{\"colorbar\":{\"outlinewidth\":0,\"ticks\":\"\"}}}],\"scatterternary\":[{\"type\":\"scatterternary\",\"marker\":{\"colorbar\":{\"outlinewidth\":0,\"ticks\":\"\"}}}],\"scattercarpet\":[{\"type\":\"scattercarpet\",\"marker\":{\"colorbar\":{\"outlinewidth\":0,\"ticks\":\"\"}}}],\"carpet\":[{\"aaxis\":{\"endlinecolor\":\"#2a3f5f\",\"gridcolor\":\"white\",\"linecolor\":\"white\",\"minorgridcolor\":\"white\",\"startlinecolor\":\"#2a3f5f\"},\"baxis\":{\"endlinecolor\":\"#2a3f5f\",\"gridcolor\":\"white\",\"linecolor\":\"white\",\"minorgridcolor\":\"white\",\"startlinecolor\":\"#2a3f5f\"},\"type\":\"carpet\"}],\"table\":[{\"cells\":{\"fill\":{\"color\":\"#EBF0F8\"},\"line\":{\"color\":\"white\"}},\"header\":{\"fill\":{\"color\":\"#C8D4E3\"},\"line\":{\"color\":\"white\"}},\"type\":\"table\"}],\"barpolar\":[{\"marker\":{\"line\":{\"color\":\"#E5ECF6\",\"width\":0.5},\"pattern\":{\"fillmode\":\"overlay\",\"size\":10,\"solidity\":0.2}},\"type\":\"barpolar\"}],\"pie\":[{\"automargin\":true,\"type\":\"pie\"}]},\"layout\":{\"autotypenumbers\":\"strict\",\"colorway\":[\"#636efa\",\"#EF553B\",\"#00cc96\",\"#ab63fa\",\"#FFA15A\",\"#19d3f3\",\"#FF6692\",\"#B6E880\",\"#FF97FF\",\"#FECB52\"],\"font\":{\"color\":\"#2a3f5f\"},\"hovermode\":\"closest\",\"hoverlabel\":{\"align\":\"left\"},\"paper_bgcolor\":\"white\",\"plot_bgcolor\":\"#E5ECF6\",\"polar\":{\"bgcolor\":\"#E5ECF6\",\"angularaxis\":{\"gridcolor\":\"white\",\"linecolor\":\"white\",\"ticks\":\"\"},\"radialaxis\":{\"gridcolor\":\"white\",\"linecolor\":\"white\",\"ticks\":\"\"}},\"ternary\":{\"bgcolor\":\"#E5ECF6\",\"aaxis\":{\"gridcolor\":\"white\",\"linecolor\":\"white\",\"ticks\":\"\"},\"baxis\":{\"gridcolor\":\"white\",\"linecolor\":\"white\",\"ticks\":\"\"},\"caxis\":{\"gridcolor\":\"white\",\"linecolor\":\"white\",\"ticks\":\"\"}},\"coloraxis\":{\"colorbar\":{\"outlinewidth\":0,\"ticks\":\"\"}},\"colorscale\":{\"sequential\":[[0.0,\"#0d0887\"],[0.1111111111111111,\"#46039f\"],[0.2222222222222222,\"#7201a8\"],[0.3333333333333333,\"#9c179e\"],[0.4444444444444444,\"#bd3786\"],[0.5555555555555556,\"#d8576b\"],[0.6666666666666666,\"#ed7953\"],[0.7777777777777778,\"#fb9f3a\"],[0.8888888888888888,\"#fdca26\"],[1.0,\"#f0f921\"]],\"sequentialminus\":[[0.0,\"#0d0887\"],[0.1111111111111111,\"#46039f\"],[0.2222222222222222,\"#7201a8\"],[0.3333333333333333,\"#9c179e\"],[0.4444444444444444,\"#bd3786\"],[0.5555555555555556,\"#d8576b\"],[0.6666666666666666,\"#ed7953\"],[0.7777777777777778,\"#fb9f3a\"],[0.8888888888888888,\"#fdca26\"],[1.0,\"#f0f921\"]],\"diverging\":[[0,\"#8e0152\"],[0.1,\"#c51b7d\"],[0.2,\"#de77ae\"],[0.3,\"#f1b6da\"],[0.4,\"#fde0ef\"],[0.5,\"#f7f7f7\"],[0.6,\"#e6f5d0\"],[0.7,\"#b8e186\"],[0.8,\"#7fbc41\"],[0.9,\"#4d9221\"],[1,\"#276419\"]]},\"xaxis\":{\"gridcolor\":\"white\",\"linecolor\":\"white\",\"ticks\":\"\",\"title\":{\"standoff\":15},\"zerolinecolor\":\"white\",\"automargin\":true,\"zerolinewidth\":2},\"yaxis\":{\"gridcolor\":\"white\",\"linecolor\":\"white\",\"ticks\":\"\",\"title\":{\"standoff\":15},\"zerolinecolor\":\"white\",\"automargin\":true,\"zerolinewidth\":2},\"scene\":{\"xaxis\":{\"backgroundcolor\":\"#E5ECF6\",\"gridcolor\":\"white\",\"linecolor\":\"white\",\"showbackground\":true,\"ticks\":\"\",\"zerolinecolor\":\"white\",\"gridwidth\":2},\"yaxis\":{\"backgroundcolor\":\"#E5ECF6\",\"gridcolor\":\"white\",\"linecolor\":\"white\",\"showbackground\":true,\"ticks\":\"\",\"zerolinecolor\":\"white\",\"gridwidth\":2},\"zaxis\":{\"backgroundcolor\":\"#E5ECF6\",\"gridcolor\":\"white\",\"linecolor\":\"white\",\"showbackground\":true,\"ticks\":\"\",\"zerolinecolor\":\"white\",\"gridwidth\":2}},\"shapedefaults\":{\"line\":{\"color\":\"#2a3f5f\"}},\"annotationdefaults\":{\"arrowcolor\":\"#2a3f5f\",\"arrowhead\":0,\"arrowwidth\":1},\"geo\":{\"bgcolor\":\"white\",\"landcolor\":\"#E5ECF6\",\"subunitcolor\":\"white\",\"showland\":true,\"showlakes\":true,\"lakecolor\":\"white\"},\"title\":{\"x\":0.05},\"mapbox\":{\"style\":\"light\"}}},\"title\":{\"text\":\"Student Performance\"},\"xaxis\":{\"title\":{\"text\":\"Students\"}},\"yaxis\":{\"title\":{\"text\":\"Scores\"}}},                        {\"responsive\": true}                    ).then(function(){\n",
              "                            \n",
              "var gd = document.getElementById('73586400-9f66-4e0e-80a5-5a512b136588');\n",
              "var x = new MutationObserver(function (mutations, observer) {{\n",
              "        var display = window.getComputedStyle(gd).display;\n",
              "        if (!display || display === 'none') {{\n",
              "            console.log([gd, 'removed!']);\n",
              "            Plotly.purge(gd);\n",
              "            observer.disconnect();\n",
              "        }}\n",
              "}});\n",
              "\n",
              "// Listen for the removal of the full notebook cells\n",
              "var notebookContainer = gd.closest('#notebook-container');\n",
              "if (notebookContainer) {{\n",
              "    x.observe(notebookContainer, {childList: true});\n",
              "}}\n",
              "\n",
              "// Listen for the clearing of the current output cell\n",
              "var outputEl = gd.closest('.output');\n",
              "if (outputEl) {{\n",
              "    x.observe(outputEl, {childList: true});\n",
              "}}\n",
              "\n",
              "                        })                };                            </script>        </div>\n",
              "</body>\n",
              "</html>"
            ]
          },
          "metadata": {}
        }
      ]
    },
    {
      "cell_type": "code",
      "source": [
        "fig = go.Figure(data=[go.Histogram(x=data['Quiz: Quiz-1 (Real)'], nbinsx=10)])\n",
        "fig.update_layout(title='Distribution of Quiz-1 Scores', xaxis_title='Quiz-1 Scores', yaxis_title='Frequency')\n",
        "fig.show()"
      ],
      "metadata": {
        "colab": {
          "base_uri": "https://localhost:8080/",
          "height": 542
        },
        "id": "-OrGiedQdNG_",
        "outputId": "3fee81ea-c2b8-4e90-e8f8-7340f2fb4dc2"
      },
      "execution_count": null,
      "outputs": [
        {
          "output_type": "display_data",
          "data": {
            "text/html": [
              "<html>\n",
              "<head><meta charset=\"utf-8\" /></head>\n",
              "<body>\n",
              "    <div>            <script src=\"https://cdnjs.cloudflare.com/ajax/libs/mathjax/2.7.5/MathJax.js?config=TeX-AMS-MML_SVG\"></script><script type=\"text/javascript\">if (window.MathJax && window.MathJax.Hub && window.MathJax.Hub.Config) {window.MathJax.Hub.Config({SVG: {font: \"STIX-Web\"}});}</script>                <script type=\"text/javascript\">window.PlotlyConfig = {MathJaxConfig: 'local'};</script>\n",
              "        <script charset=\"utf-8\" src=\"https://cdn.plot.ly/plotly-2.24.1.min.js\"></script>                <div id=\"b176c20e-9498-47b8-9381-24d720c67d87\" class=\"plotly-graph-div\" style=\"height:525px; width:100%;\"></div>            <script type=\"text/javascript\">                                    window.PLOTLYENV=window.PLOTLYENV || {};                                    if (document.getElementById(\"b176c20e-9498-47b8-9381-24d720c67d87\")) {                    Plotly.newPlot(                        \"b176c20e-9498-47b8-9381-24d720c67d87\",                        [{\"nbinsx\":10,\"x\":[\"4.5\",\"10.67\",\"17.67\",\"18.42\",\"12.42\",\"12.42\",\"11.58\",\"11.67\",\"12.5\",\"13.42\",\"-\",\"8.75\",\"7.67\",\"19.67\",\"17.67\",\"12.67\",\"12.42\",\"13.67\",\"9.17\",\"17.42\",\"7.17\",\"7.92\",\"14.67\",\"7.42\",\"17.08\",\"5.08\",\"9.17\",\"12.25\",\"19.08\",\"12.67\",\"4.58\",\"18.42\",\"7.17\",\"8.08\",\"8.42\",\"12.42\",\"9.92\",\"5.58\",\"6.92\",\"12.08\",\"18.42\",\"19.67\",\"17.67\",\"6.58\",\"7.58\",\"5.83\",\"17.33\",\"11.08\",\"18.42\",\"-\",\"7.42\",\"10.67\",\"-\",\"17.17\",\"10.58\",\"6.83\",\"4.83\",\"11.92\",\"4.5\",\"4.58\",\"13.25\"],\"type\":\"histogram\"}],                        {\"template\":{\"data\":{\"histogram2dcontour\":[{\"type\":\"histogram2dcontour\",\"colorbar\":{\"outlinewidth\":0,\"ticks\":\"\"},\"colorscale\":[[0.0,\"#0d0887\"],[0.1111111111111111,\"#46039f\"],[0.2222222222222222,\"#7201a8\"],[0.3333333333333333,\"#9c179e\"],[0.4444444444444444,\"#bd3786\"],[0.5555555555555556,\"#d8576b\"],[0.6666666666666666,\"#ed7953\"],[0.7777777777777778,\"#fb9f3a\"],[0.8888888888888888,\"#fdca26\"],[1.0,\"#f0f921\"]]}],\"choropleth\":[{\"type\":\"choropleth\",\"colorbar\":{\"outlinewidth\":0,\"ticks\":\"\"}}],\"histogram2d\":[{\"type\":\"histogram2d\",\"colorbar\":{\"outlinewidth\":0,\"ticks\":\"\"},\"colorscale\":[[0.0,\"#0d0887\"],[0.1111111111111111,\"#46039f\"],[0.2222222222222222,\"#7201a8\"],[0.3333333333333333,\"#9c179e\"],[0.4444444444444444,\"#bd3786\"],[0.5555555555555556,\"#d8576b\"],[0.6666666666666666,\"#ed7953\"],[0.7777777777777778,\"#fb9f3a\"],[0.8888888888888888,\"#fdca26\"],[1.0,\"#f0f921\"]]}],\"heatmap\":[{\"type\":\"heatmap\",\"colorbar\":{\"outlinewidth\":0,\"ticks\":\"\"},\"colorscale\":[[0.0,\"#0d0887\"],[0.1111111111111111,\"#46039f\"],[0.2222222222222222,\"#7201a8\"],[0.3333333333333333,\"#9c179e\"],[0.4444444444444444,\"#bd3786\"],[0.5555555555555556,\"#d8576b\"],[0.6666666666666666,\"#ed7953\"],[0.7777777777777778,\"#fb9f3a\"],[0.8888888888888888,\"#fdca26\"],[1.0,\"#f0f921\"]]}],\"heatmapgl\":[{\"type\":\"heatmapgl\",\"colorbar\":{\"outlinewidth\":0,\"ticks\":\"\"},\"colorscale\":[[0.0,\"#0d0887\"],[0.1111111111111111,\"#46039f\"],[0.2222222222222222,\"#7201a8\"],[0.3333333333333333,\"#9c179e\"],[0.4444444444444444,\"#bd3786\"],[0.5555555555555556,\"#d8576b\"],[0.6666666666666666,\"#ed7953\"],[0.7777777777777778,\"#fb9f3a\"],[0.8888888888888888,\"#fdca26\"],[1.0,\"#f0f921\"]]}],\"contourcarpet\":[{\"type\":\"contourcarpet\",\"colorbar\":{\"outlinewidth\":0,\"ticks\":\"\"}}],\"contour\":[{\"type\":\"contour\",\"colorbar\":{\"outlinewidth\":0,\"ticks\":\"\"},\"colorscale\":[[0.0,\"#0d0887\"],[0.1111111111111111,\"#46039f\"],[0.2222222222222222,\"#7201a8\"],[0.3333333333333333,\"#9c179e\"],[0.4444444444444444,\"#bd3786\"],[0.5555555555555556,\"#d8576b\"],[0.6666666666666666,\"#ed7953\"],[0.7777777777777778,\"#fb9f3a\"],[0.8888888888888888,\"#fdca26\"],[1.0,\"#f0f921\"]]}],\"surface\":[{\"type\":\"surface\",\"colorbar\":{\"outlinewidth\":0,\"ticks\":\"\"},\"colorscale\":[[0.0,\"#0d0887\"],[0.1111111111111111,\"#46039f\"],[0.2222222222222222,\"#7201a8\"],[0.3333333333333333,\"#9c179e\"],[0.4444444444444444,\"#bd3786\"],[0.5555555555555556,\"#d8576b\"],[0.6666666666666666,\"#ed7953\"],[0.7777777777777778,\"#fb9f3a\"],[0.8888888888888888,\"#fdca26\"],[1.0,\"#f0f921\"]]}],\"mesh3d\":[{\"type\":\"mesh3d\",\"colorbar\":{\"outlinewidth\":0,\"ticks\":\"\"}}],\"scatter\":[{\"fillpattern\":{\"fillmode\":\"overlay\",\"size\":10,\"solidity\":0.2},\"type\":\"scatter\"}],\"parcoords\":[{\"type\":\"parcoords\",\"line\":{\"colorbar\":{\"outlinewidth\":0,\"ticks\":\"\"}}}],\"scatterpolargl\":[{\"type\":\"scatterpolargl\",\"marker\":{\"colorbar\":{\"outlinewidth\":0,\"ticks\":\"\"}}}],\"bar\":[{\"error_x\":{\"color\":\"#2a3f5f\"},\"error_y\":{\"color\":\"#2a3f5f\"},\"marker\":{\"line\":{\"color\":\"#E5ECF6\",\"width\":0.5},\"pattern\":{\"fillmode\":\"overlay\",\"size\":10,\"solidity\":0.2}},\"type\":\"bar\"}],\"scattergeo\":[{\"type\":\"scattergeo\",\"marker\":{\"colorbar\":{\"outlinewidth\":0,\"ticks\":\"\"}}}],\"scatterpolar\":[{\"type\":\"scatterpolar\",\"marker\":{\"colorbar\":{\"outlinewidth\":0,\"ticks\":\"\"}}}],\"histogram\":[{\"marker\":{\"pattern\":{\"fillmode\":\"overlay\",\"size\":10,\"solidity\":0.2}},\"type\":\"histogram\"}],\"scattergl\":[{\"type\":\"scattergl\",\"marker\":{\"colorbar\":{\"outlinewidth\":0,\"ticks\":\"\"}}}],\"scatter3d\":[{\"type\":\"scatter3d\",\"line\":{\"colorbar\":{\"outlinewidth\":0,\"ticks\":\"\"}},\"marker\":{\"colorbar\":{\"outlinewidth\":0,\"ticks\":\"\"}}}],\"scattermapbox\":[{\"type\":\"scattermapbox\",\"marker\":{\"colorbar\":{\"outlinewidth\":0,\"ticks\":\"\"}}}],\"scatterternary\":[{\"type\":\"scatterternary\",\"marker\":{\"colorbar\":{\"outlinewidth\":0,\"ticks\":\"\"}}}],\"scattercarpet\":[{\"type\":\"scattercarpet\",\"marker\":{\"colorbar\":{\"outlinewidth\":0,\"ticks\":\"\"}}}],\"carpet\":[{\"aaxis\":{\"endlinecolor\":\"#2a3f5f\",\"gridcolor\":\"white\",\"linecolor\":\"white\",\"minorgridcolor\":\"white\",\"startlinecolor\":\"#2a3f5f\"},\"baxis\":{\"endlinecolor\":\"#2a3f5f\",\"gridcolor\":\"white\",\"linecolor\":\"white\",\"minorgridcolor\":\"white\",\"startlinecolor\":\"#2a3f5f\"},\"type\":\"carpet\"}],\"table\":[{\"cells\":{\"fill\":{\"color\":\"#EBF0F8\"},\"line\":{\"color\":\"white\"}},\"header\":{\"fill\":{\"color\":\"#C8D4E3\"},\"line\":{\"color\":\"white\"}},\"type\":\"table\"}],\"barpolar\":[{\"marker\":{\"line\":{\"color\":\"#E5ECF6\",\"width\":0.5},\"pattern\":{\"fillmode\":\"overlay\",\"size\":10,\"solidity\":0.2}},\"type\":\"barpolar\"}],\"pie\":[{\"automargin\":true,\"type\":\"pie\"}]},\"layout\":{\"autotypenumbers\":\"strict\",\"colorway\":[\"#636efa\",\"#EF553B\",\"#00cc96\",\"#ab63fa\",\"#FFA15A\",\"#19d3f3\",\"#FF6692\",\"#B6E880\",\"#FF97FF\",\"#FECB52\"],\"font\":{\"color\":\"#2a3f5f\"},\"hovermode\":\"closest\",\"hoverlabel\":{\"align\":\"left\"},\"paper_bgcolor\":\"white\",\"plot_bgcolor\":\"#E5ECF6\",\"polar\":{\"bgcolor\":\"#E5ECF6\",\"angularaxis\":{\"gridcolor\":\"white\",\"linecolor\":\"white\",\"ticks\":\"\"},\"radialaxis\":{\"gridcolor\":\"white\",\"linecolor\":\"white\",\"ticks\":\"\"}},\"ternary\":{\"bgcolor\":\"#E5ECF6\",\"aaxis\":{\"gridcolor\":\"white\",\"linecolor\":\"white\",\"ticks\":\"\"},\"baxis\":{\"gridcolor\":\"white\",\"linecolor\":\"white\",\"ticks\":\"\"},\"caxis\":{\"gridcolor\":\"white\",\"linecolor\":\"white\",\"ticks\":\"\"}},\"coloraxis\":{\"colorbar\":{\"outlinewidth\":0,\"ticks\":\"\"}},\"colorscale\":{\"sequential\":[[0.0,\"#0d0887\"],[0.1111111111111111,\"#46039f\"],[0.2222222222222222,\"#7201a8\"],[0.3333333333333333,\"#9c179e\"],[0.4444444444444444,\"#bd3786\"],[0.5555555555555556,\"#d8576b\"],[0.6666666666666666,\"#ed7953\"],[0.7777777777777778,\"#fb9f3a\"],[0.8888888888888888,\"#fdca26\"],[1.0,\"#f0f921\"]],\"sequentialminus\":[[0.0,\"#0d0887\"],[0.1111111111111111,\"#46039f\"],[0.2222222222222222,\"#7201a8\"],[0.3333333333333333,\"#9c179e\"],[0.4444444444444444,\"#bd3786\"],[0.5555555555555556,\"#d8576b\"],[0.6666666666666666,\"#ed7953\"],[0.7777777777777778,\"#fb9f3a\"],[0.8888888888888888,\"#fdca26\"],[1.0,\"#f0f921\"]],\"diverging\":[[0,\"#8e0152\"],[0.1,\"#c51b7d\"],[0.2,\"#de77ae\"],[0.3,\"#f1b6da\"],[0.4,\"#fde0ef\"],[0.5,\"#f7f7f7\"],[0.6,\"#e6f5d0\"],[0.7,\"#b8e186\"],[0.8,\"#7fbc41\"],[0.9,\"#4d9221\"],[1,\"#276419\"]]},\"xaxis\":{\"gridcolor\":\"white\",\"linecolor\":\"white\",\"ticks\":\"\",\"title\":{\"standoff\":15},\"zerolinecolor\":\"white\",\"automargin\":true,\"zerolinewidth\":2},\"yaxis\":{\"gridcolor\":\"white\",\"linecolor\":\"white\",\"ticks\":\"\",\"title\":{\"standoff\":15},\"zerolinecolor\":\"white\",\"automargin\":true,\"zerolinewidth\":2},\"scene\":{\"xaxis\":{\"backgroundcolor\":\"#E5ECF6\",\"gridcolor\":\"white\",\"linecolor\":\"white\",\"showbackground\":true,\"ticks\":\"\",\"zerolinecolor\":\"white\",\"gridwidth\":2},\"yaxis\":{\"backgroundcolor\":\"#E5ECF6\",\"gridcolor\":\"white\",\"linecolor\":\"white\",\"showbackground\":true,\"ticks\":\"\",\"zerolinecolor\":\"white\",\"gridwidth\":2},\"zaxis\":{\"backgroundcolor\":\"#E5ECF6\",\"gridcolor\":\"white\",\"linecolor\":\"white\",\"showbackground\":true,\"ticks\":\"\",\"zerolinecolor\":\"white\",\"gridwidth\":2}},\"shapedefaults\":{\"line\":{\"color\":\"#2a3f5f\"}},\"annotationdefaults\":{\"arrowcolor\":\"#2a3f5f\",\"arrowhead\":0,\"arrowwidth\":1},\"geo\":{\"bgcolor\":\"white\",\"landcolor\":\"#E5ECF6\",\"subunitcolor\":\"white\",\"showland\":true,\"showlakes\":true,\"lakecolor\":\"white\"},\"title\":{\"x\":0.05},\"mapbox\":{\"style\":\"light\"}}},\"title\":{\"text\":\"Distribution of Quiz-1 Scores\"},\"xaxis\":{\"title\":{\"text\":\"Quiz-1 Scores\"}},\"yaxis\":{\"title\":{\"text\":\"Frequency\"}}},                        {\"responsive\": true}                    ).then(function(){\n",
              "                            \n",
              "var gd = document.getElementById('b176c20e-9498-47b8-9381-24d720c67d87');\n",
              "var x = new MutationObserver(function (mutations, observer) {{\n",
              "        var display = window.getComputedStyle(gd).display;\n",
              "        if (!display || display === 'none') {{\n",
              "            console.log([gd, 'removed!']);\n",
              "            Plotly.purge(gd);\n",
              "            observer.disconnect();\n",
              "        }}\n",
              "}});\n",
              "\n",
              "// Listen for the removal of the full notebook cells\n",
              "var notebookContainer = gd.closest('#notebook-container');\n",
              "if (notebookContainer) {{\n",
              "    x.observe(notebookContainer, {childList: true});\n",
              "}}\n",
              "\n",
              "// Listen for the clearing of the current output cell\n",
              "var outputEl = gd.closest('.output');\n",
              "if (outputEl) {{\n",
              "    x.observe(outputEl, {childList: true});\n",
              "}}\n",
              "\n",
              "                        })                };                            </script>        </div>\n",
              "</body>\n",
              "</html>"
            ]
          },
          "metadata": {}
        }
      ]
    },
    {
      "cell_type": "code",
      "source": [
        "fig = go.Figure(data=[go.Bar(x=data['Surname'], y=data['Course total (Real)'], marker_color='lightcoral')])\n",
        "fig.update_layout(title='Course Total Scores', xaxis_title='Student Surnames', yaxis_title='Course Total Scores')\n",
        "fig.show()"
      ],
      "metadata": {
        "colab": {
          "base_uri": "https://localhost:8080/",
          "height": 542
        },
        "id": "kxYHTSQed3fB",
        "outputId": "b7f0e603-7a58-42d3-8f4b-a33fc37bd6fd"
      },
      "execution_count": null,
      "outputs": [
        {
          "output_type": "display_data",
          "data": {
            "text/html": [
              "<html>\n",
              "<head><meta charset=\"utf-8\" /></head>\n",
              "<body>\n",
              "    <div>            <script src=\"https://cdnjs.cloudflare.com/ajax/libs/mathjax/2.7.5/MathJax.js?config=TeX-AMS-MML_SVG\"></script><script type=\"text/javascript\">if (window.MathJax && window.MathJax.Hub && window.MathJax.Hub.Config) {window.MathJax.Hub.Config({SVG: {font: \"STIX-Web\"}});}</script>                <script type=\"text/javascript\">window.PlotlyConfig = {MathJaxConfig: 'local'};</script>\n",
              "        <script charset=\"utf-8\" src=\"https://cdn.plot.ly/plotly-2.24.1.min.js\"></script>                <div id=\"d739ac96-ed1f-4167-836d-8f3d45eb051a\" class=\"plotly-graph-div\" style=\"height:525px; width:100%;\"></div>            <script type=\"text/javascript\">                                    window.PLOTLYENV=window.PLOTLYENV || {};                                    if (document.getElementById(\"d739ac96-ed1f-4167-836d-8f3d45eb051a\")) {                    Plotly.newPlot(                        \"d739ac96-ed1f-4167-836d-8f3d45eb051a\",                        [{\"marker\":{\"color\":\"lightcoral\"},\"x\":[\"hu21csen0100521\",\"hu21csen0100536\",\"hu21csen0100557\",\"hu21csen0100566\",\"hu21csen0100576\",\"hu21csen0100597\",\"hu21csen0100621\",\"hu21csen0100642\",\"hu21csen0100671\",\"hu21csen0100675\",\"hu21csen0100686\",\"hu21csen0100689\",\"hu21csen0100735\",\"hu21csen0100743\",\"hu21csen0100746\",\"hu21csen0100964\",\"hu21csen0100966\",\"hu21csen0101086\",\"hu21csen0101106\",\"hu21csen0101107\",\"hu21csen0101140\",\"hu21csen0101151\",\"hu21csen0101181\",\"hu21csen0101185\",\"hu21csen0101193\",\"hu21csen0101197\",\"hu21csen0101260\",\"hu21csen0101282\",\"hu21csen0101344\",\"hu21csen0101375\",\"hu21csen0101380\",\"hu21csen0101528\",\"hu21csen0101556\",\"hu21csen0101596\",\"hu21csen0101630\",\"hu21csen0101668\",\"hu21csen0101725\",\"hu21csen0101730\",\"hu21csen0101740\",\"hu21csen0101805\",\"hu21csen0101815\",\"hu21csen0101827\",\"hu21csen0101838\",\"hu21csen0101848\",\"hu21csen0101869\",\"hu21csen0101874\",\"hu21csen0101882\",\"hu21csen0101884\",\"hu21csen0101891\",\"hu21csen0101932\",\"HU21CSEN0101934\",\"HU21CSEN0101947\",\"HU21CSEN0101952\",\"HU21CSEN0101955\",\"HU21CSEN0101957\",\"HU21CSEN0101993\",\"HU21CSEN0101995\",\"HU21CSEN0102000\",\"HU21CSEN0102002\",\"HU21CSEN0102011\",\"HU21CSEN0102057\"],\"y\":[14.5,35.67,47.67,33.42,32.42,37.42,36.58,26.67,22.5,33.42,0.0,28.75,17.67,39.67,37.67,32.67,32.42,28.67,14.17,32.42,12.17,22.92,34.67,27.42,42.08,20.08,29.17,17.25,39.08,27.67,4.58,38.42,22.17,18.08,23.42,37.42,24.92,20.58,11.92,37.08,33.42,29.67,27.67,6.58,12.58,5.83,37.33,26.08,28.42,5.0,12.42,25.67,15.0,27.17,10.58,11.83,9.83,36.92,24.5,14.58,33.25],\"type\":\"bar\"}],                        {\"template\":{\"data\":{\"histogram2dcontour\":[{\"type\":\"histogram2dcontour\",\"colorbar\":{\"outlinewidth\":0,\"ticks\":\"\"},\"colorscale\":[[0.0,\"#0d0887\"],[0.1111111111111111,\"#46039f\"],[0.2222222222222222,\"#7201a8\"],[0.3333333333333333,\"#9c179e\"],[0.4444444444444444,\"#bd3786\"],[0.5555555555555556,\"#d8576b\"],[0.6666666666666666,\"#ed7953\"],[0.7777777777777778,\"#fb9f3a\"],[0.8888888888888888,\"#fdca26\"],[1.0,\"#f0f921\"]]}],\"choropleth\":[{\"type\":\"choropleth\",\"colorbar\":{\"outlinewidth\":0,\"ticks\":\"\"}}],\"histogram2d\":[{\"type\":\"histogram2d\",\"colorbar\":{\"outlinewidth\":0,\"ticks\":\"\"},\"colorscale\":[[0.0,\"#0d0887\"],[0.1111111111111111,\"#46039f\"],[0.2222222222222222,\"#7201a8\"],[0.3333333333333333,\"#9c179e\"],[0.4444444444444444,\"#bd3786\"],[0.5555555555555556,\"#d8576b\"],[0.6666666666666666,\"#ed7953\"],[0.7777777777777778,\"#fb9f3a\"],[0.8888888888888888,\"#fdca26\"],[1.0,\"#f0f921\"]]}],\"heatmap\":[{\"type\":\"heatmap\",\"colorbar\":{\"outlinewidth\":0,\"ticks\":\"\"},\"colorscale\":[[0.0,\"#0d0887\"],[0.1111111111111111,\"#46039f\"],[0.2222222222222222,\"#7201a8\"],[0.3333333333333333,\"#9c179e\"],[0.4444444444444444,\"#bd3786\"],[0.5555555555555556,\"#d8576b\"],[0.6666666666666666,\"#ed7953\"],[0.7777777777777778,\"#fb9f3a\"],[0.8888888888888888,\"#fdca26\"],[1.0,\"#f0f921\"]]}],\"heatmapgl\":[{\"type\":\"heatmapgl\",\"colorbar\":{\"outlinewidth\":0,\"ticks\":\"\"},\"colorscale\":[[0.0,\"#0d0887\"],[0.1111111111111111,\"#46039f\"],[0.2222222222222222,\"#7201a8\"],[0.3333333333333333,\"#9c179e\"],[0.4444444444444444,\"#bd3786\"],[0.5555555555555556,\"#d8576b\"],[0.6666666666666666,\"#ed7953\"],[0.7777777777777778,\"#fb9f3a\"],[0.8888888888888888,\"#fdca26\"],[1.0,\"#f0f921\"]]}],\"contourcarpet\":[{\"type\":\"contourcarpet\",\"colorbar\":{\"outlinewidth\":0,\"ticks\":\"\"}}],\"contour\":[{\"type\":\"contour\",\"colorbar\":{\"outlinewidth\":0,\"ticks\":\"\"},\"colorscale\":[[0.0,\"#0d0887\"],[0.1111111111111111,\"#46039f\"],[0.2222222222222222,\"#7201a8\"],[0.3333333333333333,\"#9c179e\"],[0.4444444444444444,\"#bd3786\"],[0.5555555555555556,\"#d8576b\"],[0.6666666666666666,\"#ed7953\"],[0.7777777777777778,\"#fb9f3a\"],[0.8888888888888888,\"#fdca26\"],[1.0,\"#f0f921\"]]}],\"surface\":[{\"type\":\"surface\",\"colorbar\":{\"outlinewidth\":0,\"ticks\":\"\"},\"colorscale\":[[0.0,\"#0d0887\"],[0.1111111111111111,\"#46039f\"],[0.2222222222222222,\"#7201a8\"],[0.3333333333333333,\"#9c179e\"],[0.4444444444444444,\"#bd3786\"],[0.5555555555555556,\"#d8576b\"],[0.6666666666666666,\"#ed7953\"],[0.7777777777777778,\"#fb9f3a\"],[0.8888888888888888,\"#fdca26\"],[1.0,\"#f0f921\"]]}],\"mesh3d\":[{\"type\":\"mesh3d\",\"colorbar\":{\"outlinewidth\":0,\"ticks\":\"\"}}],\"scatter\":[{\"fillpattern\":{\"fillmode\":\"overlay\",\"size\":10,\"solidity\":0.2},\"type\":\"scatter\"}],\"parcoords\":[{\"type\":\"parcoords\",\"line\":{\"colorbar\":{\"outlinewidth\":0,\"ticks\":\"\"}}}],\"scatterpolargl\":[{\"type\":\"scatterpolargl\",\"marker\":{\"colorbar\":{\"outlinewidth\":0,\"ticks\":\"\"}}}],\"bar\":[{\"error_x\":{\"color\":\"#2a3f5f\"},\"error_y\":{\"color\":\"#2a3f5f\"},\"marker\":{\"line\":{\"color\":\"#E5ECF6\",\"width\":0.5},\"pattern\":{\"fillmode\":\"overlay\",\"size\":10,\"solidity\":0.2}},\"type\":\"bar\"}],\"scattergeo\":[{\"type\":\"scattergeo\",\"marker\":{\"colorbar\":{\"outlinewidth\":0,\"ticks\":\"\"}}}],\"scatterpolar\":[{\"type\":\"scatterpolar\",\"marker\":{\"colorbar\":{\"outlinewidth\":0,\"ticks\":\"\"}}}],\"histogram\":[{\"marker\":{\"pattern\":{\"fillmode\":\"overlay\",\"size\":10,\"solidity\":0.2}},\"type\":\"histogram\"}],\"scattergl\":[{\"type\":\"scattergl\",\"marker\":{\"colorbar\":{\"outlinewidth\":0,\"ticks\":\"\"}}}],\"scatter3d\":[{\"type\":\"scatter3d\",\"line\":{\"colorbar\":{\"outlinewidth\":0,\"ticks\":\"\"}},\"marker\":{\"colorbar\":{\"outlinewidth\":0,\"ticks\":\"\"}}}],\"scattermapbox\":[{\"type\":\"scattermapbox\",\"marker\":{\"colorbar\":{\"outlinewidth\":0,\"ticks\":\"\"}}}],\"scatterternary\":[{\"type\":\"scatterternary\",\"marker\":{\"colorbar\":{\"outlinewidth\":0,\"ticks\":\"\"}}}],\"scattercarpet\":[{\"type\":\"scattercarpet\",\"marker\":{\"colorbar\":{\"outlinewidth\":0,\"ticks\":\"\"}}}],\"carpet\":[{\"aaxis\":{\"endlinecolor\":\"#2a3f5f\",\"gridcolor\":\"white\",\"linecolor\":\"white\",\"minorgridcolor\":\"white\",\"startlinecolor\":\"#2a3f5f\"},\"baxis\":{\"endlinecolor\":\"#2a3f5f\",\"gridcolor\":\"white\",\"linecolor\":\"white\",\"minorgridcolor\":\"white\",\"startlinecolor\":\"#2a3f5f\"},\"type\":\"carpet\"}],\"table\":[{\"cells\":{\"fill\":{\"color\":\"#EBF0F8\"},\"line\":{\"color\":\"white\"}},\"header\":{\"fill\":{\"color\":\"#C8D4E3\"},\"line\":{\"color\":\"white\"}},\"type\":\"table\"}],\"barpolar\":[{\"marker\":{\"line\":{\"color\":\"#E5ECF6\",\"width\":0.5},\"pattern\":{\"fillmode\":\"overlay\",\"size\":10,\"solidity\":0.2}},\"type\":\"barpolar\"}],\"pie\":[{\"automargin\":true,\"type\":\"pie\"}]},\"layout\":{\"autotypenumbers\":\"strict\",\"colorway\":[\"#636efa\",\"#EF553B\",\"#00cc96\",\"#ab63fa\",\"#FFA15A\",\"#19d3f3\",\"#FF6692\",\"#B6E880\",\"#FF97FF\",\"#FECB52\"],\"font\":{\"color\":\"#2a3f5f\"},\"hovermode\":\"closest\",\"hoverlabel\":{\"align\":\"left\"},\"paper_bgcolor\":\"white\",\"plot_bgcolor\":\"#E5ECF6\",\"polar\":{\"bgcolor\":\"#E5ECF6\",\"angularaxis\":{\"gridcolor\":\"white\",\"linecolor\":\"white\",\"ticks\":\"\"},\"radialaxis\":{\"gridcolor\":\"white\",\"linecolor\":\"white\",\"ticks\":\"\"}},\"ternary\":{\"bgcolor\":\"#E5ECF6\",\"aaxis\":{\"gridcolor\":\"white\",\"linecolor\":\"white\",\"ticks\":\"\"},\"baxis\":{\"gridcolor\":\"white\",\"linecolor\":\"white\",\"ticks\":\"\"},\"caxis\":{\"gridcolor\":\"white\",\"linecolor\":\"white\",\"ticks\":\"\"}},\"coloraxis\":{\"colorbar\":{\"outlinewidth\":0,\"ticks\":\"\"}},\"colorscale\":{\"sequential\":[[0.0,\"#0d0887\"],[0.1111111111111111,\"#46039f\"],[0.2222222222222222,\"#7201a8\"],[0.3333333333333333,\"#9c179e\"],[0.4444444444444444,\"#bd3786\"],[0.5555555555555556,\"#d8576b\"],[0.6666666666666666,\"#ed7953\"],[0.7777777777777778,\"#fb9f3a\"],[0.8888888888888888,\"#fdca26\"],[1.0,\"#f0f921\"]],\"sequentialminus\":[[0.0,\"#0d0887\"],[0.1111111111111111,\"#46039f\"],[0.2222222222222222,\"#7201a8\"],[0.3333333333333333,\"#9c179e\"],[0.4444444444444444,\"#bd3786\"],[0.5555555555555556,\"#d8576b\"],[0.6666666666666666,\"#ed7953\"],[0.7777777777777778,\"#fb9f3a\"],[0.8888888888888888,\"#fdca26\"],[1.0,\"#f0f921\"]],\"diverging\":[[0,\"#8e0152\"],[0.1,\"#c51b7d\"],[0.2,\"#de77ae\"],[0.3,\"#f1b6da\"],[0.4,\"#fde0ef\"],[0.5,\"#f7f7f7\"],[0.6,\"#e6f5d0\"],[0.7,\"#b8e186\"],[0.8,\"#7fbc41\"],[0.9,\"#4d9221\"],[1,\"#276419\"]]},\"xaxis\":{\"gridcolor\":\"white\",\"linecolor\":\"white\",\"ticks\":\"\",\"title\":{\"standoff\":15},\"zerolinecolor\":\"white\",\"automargin\":true,\"zerolinewidth\":2},\"yaxis\":{\"gridcolor\":\"white\",\"linecolor\":\"white\",\"ticks\":\"\",\"title\":{\"standoff\":15},\"zerolinecolor\":\"white\",\"automargin\":true,\"zerolinewidth\":2},\"scene\":{\"xaxis\":{\"backgroundcolor\":\"#E5ECF6\",\"gridcolor\":\"white\",\"linecolor\":\"white\",\"showbackground\":true,\"ticks\":\"\",\"zerolinecolor\":\"white\",\"gridwidth\":2},\"yaxis\":{\"backgroundcolor\":\"#E5ECF6\",\"gridcolor\":\"white\",\"linecolor\":\"white\",\"showbackground\":true,\"ticks\":\"\",\"zerolinecolor\":\"white\",\"gridwidth\":2},\"zaxis\":{\"backgroundcolor\":\"#E5ECF6\",\"gridcolor\":\"white\",\"linecolor\":\"white\",\"showbackground\":true,\"ticks\":\"\",\"zerolinecolor\":\"white\",\"gridwidth\":2}},\"shapedefaults\":{\"line\":{\"color\":\"#2a3f5f\"}},\"annotationdefaults\":{\"arrowcolor\":\"#2a3f5f\",\"arrowhead\":0,\"arrowwidth\":1},\"geo\":{\"bgcolor\":\"white\",\"landcolor\":\"#E5ECF6\",\"subunitcolor\":\"white\",\"showland\":true,\"showlakes\":true,\"lakecolor\":\"white\"},\"title\":{\"x\":0.05},\"mapbox\":{\"style\":\"light\"}}},\"title\":{\"text\":\"Course Total Scores\"},\"xaxis\":{\"title\":{\"text\":\"Student Surnames\"}},\"yaxis\":{\"title\":{\"text\":\"Course Total Scores\"}}},                        {\"responsive\": true}                    ).then(function(){\n",
              "                            \n",
              "var gd = document.getElementById('d739ac96-ed1f-4167-836d-8f3d45eb051a');\n",
              "var x = new MutationObserver(function (mutations, observer) {{\n",
              "        var display = window.getComputedStyle(gd).display;\n",
              "        if (!display || display === 'none') {{\n",
              "            console.log([gd, 'removed!']);\n",
              "            Plotly.purge(gd);\n",
              "            observer.disconnect();\n",
              "        }}\n",
              "}});\n",
              "\n",
              "// Listen for the removal of the full notebook cells\n",
              "var notebookContainer = gd.closest('#notebook-container');\n",
              "if (notebookContainer) {{\n",
              "    x.observe(notebookContainer, {childList: true});\n",
              "}}\n",
              "\n",
              "// Listen for the clearing of the current output cell\n",
              "var outputEl = gd.closest('.output');\n",
              "if (outputEl) {{\n",
              "    x.observe(outputEl, {childList: true});\n",
              "}}\n",
              "\n",
              "                        })                };                            </script>        </div>\n",
              "</body>\n",
              "</html>"
            ]
          },
          "metadata": {}
        }
      ]
    },
    {
      "cell_type": "code",
      "source": [
        "fig = go.Figure(data=[go.Scatter(x=data['Quiz: Quiz-1 (Real)'], y=data['Quiz: Mid1 (Real)'], mode='markers', marker=dict(color='green'))])\n",
        "fig.update_layout(title='Quiz-1 vs Mid1 Scores', xaxis_title='Quiz-1 Scores', yaxis_title='Mid1 Scores')\n",
        "fig.show()"
      ],
      "metadata": {
        "id": "7M2KzYxkeZfb",
        "outputId": "5795286a-fd38-444e-cc3c-9226e7a7bba3",
        "colab": {
          "base_uri": "https://localhost:8080/",
          "height": 542
        }
      },
      "execution_count": null,
      "outputs": [
        {
          "output_type": "display_data",
          "data": {
            "text/html": [
              "<html>\n",
              "<head><meta charset=\"utf-8\" /></head>\n",
              "<body>\n",
              "    <div>            <script src=\"https://cdnjs.cloudflare.com/ajax/libs/mathjax/2.7.5/MathJax.js?config=TeX-AMS-MML_SVG\"></script><script type=\"text/javascript\">if (window.MathJax && window.MathJax.Hub && window.MathJax.Hub.Config) {window.MathJax.Hub.Config({SVG: {font: \"STIX-Web\"}});}</script>                <script type=\"text/javascript\">window.PlotlyConfig = {MathJaxConfig: 'local'};</script>\n",
              "        <script charset=\"utf-8\" src=\"https://cdn.plot.ly/plotly-2.24.1.min.js\"></script>                <div id=\"fa204ae4-db32-4509-bea1-972045353446\" class=\"plotly-graph-div\" style=\"height:525px; width:100%;\"></div>            <script type=\"text/javascript\">                                    window.PLOTLYENV=window.PLOTLYENV || {};                                    if (document.getElementById(\"fa204ae4-db32-4509-bea1-972045353446\")) {                    Plotly.newPlot(                        \"fa204ae4-db32-4509-bea1-972045353446\",                        [{\"marker\":{\"color\":\"green\"},\"mode\":\"markers\",\"x\":[\"4.5\",\"10.67\",\"17.67\",\"18.42\",\"12.42\",\"12.42\",\"11.58\",\"11.67\",\"12.5\",\"13.42\",\"-\",\"8.75\",\"7.67\",\"19.67\",\"17.67\",\"12.67\",\"12.42\",\"13.67\",\"9.17\",\"17.42\",\"7.17\",\"7.92\",\"14.67\",\"7.42\",\"17.08\",\"5.08\",\"9.17\",\"12.25\",\"19.08\",\"12.67\",\"4.58\",\"18.42\",\"7.17\",\"8.08\",\"8.42\",\"12.42\",\"9.92\",\"5.58\",\"6.92\",\"12.08\",\"18.42\",\"19.67\",\"17.67\",\"6.58\",\"7.58\",\"5.83\",\"17.33\",\"11.08\",\"18.42\",\"-\",\"7.42\",\"10.67\",\"-\",\"17.17\",\"10.58\",\"6.83\",\"4.83\",\"11.92\",\"4.5\",\"4.58\",\"13.25\"],\"y\":[10,25,30,15,20,25,25,15,10,20,0,20,10,20,20,20,20,15,5,15,5,15,20,20,25,15,20,5,20,15,0,20,15,10,15,25,15,15,5,25,15,10,10,0,5,0,20,15,10,5,5,15,15,10,0,5,5,25,20,10,20],\"type\":\"scatter\"}],                        {\"template\":{\"data\":{\"histogram2dcontour\":[{\"type\":\"histogram2dcontour\",\"colorbar\":{\"outlinewidth\":0,\"ticks\":\"\"},\"colorscale\":[[0.0,\"#0d0887\"],[0.1111111111111111,\"#46039f\"],[0.2222222222222222,\"#7201a8\"],[0.3333333333333333,\"#9c179e\"],[0.4444444444444444,\"#bd3786\"],[0.5555555555555556,\"#d8576b\"],[0.6666666666666666,\"#ed7953\"],[0.7777777777777778,\"#fb9f3a\"],[0.8888888888888888,\"#fdca26\"],[1.0,\"#f0f921\"]]}],\"choropleth\":[{\"type\":\"choropleth\",\"colorbar\":{\"outlinewidth\":0,\"ticks\":\"\"}}],\"histogram2d\":[{\"type\":\"histogram2d\",\"colorbar\":{\"outlinewidth\":0,\"ticks\":\"\"},\"colorscale\":[[0.0,\"#0d0887\"],[0.1111111111111111,\"#46039f\"],[0.2222222222222222,\"#7201a8\"],[0.3333333333333333,\"#9c179e\"],[0.4444444444444444,\"#bd3786\"],[0.5555555555555556,\"#d8576b\"],[0.6666666666666666,\"#ed7953\"],[0.7777777777777778,\"#fb9f3a\"],[0.8888888888888888,\"#fdca26\"],[1.0,\"#f0f921\"]]}],\"heatmap\":[{\"type\":\"heatmap\",\"colorbar\":{\"outlinewidth\":0,\"ticks\":\"\"},\"colorscale\":[[0.0,\"#0d0887\"],[0.1111111111111111,\"#46039f\"],[0.2222222222222222,\"#7201a8\"],[0.3333333333333333,\"#9c179e\"],[0.4444444444444444,\"#bd3786\"],[0.5555555555555556,\"#d8576b\"],[0.6666666666666666,\"#ed7953\"],[0.7777777777777778,\"#fb9f3a\"],[0.8888888888888888,\"#fdca26\"],[1.0,\"#f0f921\"]]}],\"heatmapgl\":[{\"type\":\"heatmapgl\",\"colorbar\":{\"outlinewidth\":0,\"ticks\":\"\"},\"colorscale\":[[0.0,\"#0d0887\"],[0.1111111111111111,\"#46039f\"],[0.2222222222222222,\"#7201a8\"],[0.3333333333333333,\"#9c179e\"],[0.4444444444444444,\"#bd3786\"],[0.5555555555555556,\"#d8576b\"],[0.6666666666666666,\"#ed7953\"],[0.7777777777777778,\"#fb9f3a\"],[0.8888888888888888,\"#fdca26\"],[1.0,\"#f0f921\"]]}],\"contourcarpet\":[{\"type\":\"contourcarpet\",\"colorbar\":{\"outlinewidth\":0,\"ticks\":\"\"}}],\"contour\":[{\"type\":\"contour\",\"colorbar\":{\"outlinewidth\":0,\"ticks\":\"\"},\"colorscale\":[[0.0,\"#0d0887\"],[0.1111111111111111,\"#46039f\"],[0.2222222222222222,\"#7201a8\"],[0.3333333333333333,\"#9c179e\"],[0.4444444444444444,\"#bd3786\"],[0.5555555555555556,\"#d8576b\"],[0.6666666666666666,\"#ed7953\"],[0.7777777777777778,\"#fb9f3a\"],[0.8888888888888888,\"#fdca26\"],[1.0,\"#f0f921\"]]}],\"surface\":[{\"type\":\"surface\",\"colorbar\":{\"outlinewidth\":0,\"ticks\":\"\"},\"colorscale\":[[0.0,\"#0d0887\"],[0.1111111111111111,\"#46039f\"],[0.2222222222222222,\"#7201a8\"],[0.3333333333333333,\"#9c179e\"],[0.4444444444444444,\"#bd3786\"],[0.5555555555555556,\"#d8576b\"],[0.6666666666666666,\"#ed7953\"],[0.7777777777777778,\"#fb9f3a\"],[0.8888888888888888,\"#fdca26\"],[1.0,\"#f0f921\"]]}],\"mesh3d\":[{\"type\":\"mesh3d\",\"colorbar\":{\"outlinewidth\":0,\"ticks\":\"\"}}],\"scatter\":[{\"fillpattern\":{\"fillmode\":\"overlay\",\"size\":10,\"solidity\":0.2},\"type\":\"scatter\"}],\"parcoords\":[{\"type\":\"parcoords\",\"line\":{\"colorbar\":{\"outlinewidth\":0,\"ticks\":\"\"}}}],\"scatterpolargl\":[{\"type\":\"scatterpolargl\",\"marker\":{\"colorbar\":{\"outlinewidth\":0,\"ticks\":\"\"}}}],\"bar\":[{\"error_x\":{\"color\":\"#2a3f5f\"},\"error_y\":{\"color\":\"#2a3f5f\"},\"marker\":{\"line\":{\"color\":\"#E5ECF6\",\"width\":0.5},\"pattern\":{\"fillmode\":\"overlay\",\"size\":10,\"solidity\":0.2}},\"type\":\"bar\"}],\"scattergeo\":[{\"type\":\"scattergeo\",\"marker\":{\"colorbar\":{\"outlinewidth\":0,\"ticks\":\"\"}}}],\"scatterpolar\":[{\"type\":\"scatterpolar\",\"marker\":{\"colorbar\":{\"outlinewidth\":0,\"ticks\":\"\"}}}],\"histogram\":[{\"marker\":{\"pattern\":{\"fillmode\":\"overlay\",\"size\":10,\"solidity\":0.2}},\"type\":\"histogram\"}],\"scattergl\":[{\"type\":\"scattergl\",\"marker\":{\"colorbar\":{\"outlinewidth\":0,\"ticks\":\"\"}}}],\"scatter3d\":[{\"type\":\"scatter3d\",\"line\":{\"colorbar\":{\"outlinewidth\":0,\"ticks\":\"\"}},\"marker\":{\"colorbar\":{\"outlinewidth\":0,\"ticks\":\"\"}}}],\"scattermapbox\":[{\"type\":\"scattermapbox\",\"marker\":{\"colorbar\":{\"outlinewidth\":0,\"ticks\":\"\"}}}],\"scatterternary\":[{\"type\":\"scatterternary\",\"marker\":{\"colorbar\":{\"outlinewidth\":0,\"ticks\":\"\"}}}],\"scattercarpet\":[{\"type\":\"scattercarpet\",\"marker\":{\"colorbar\":{\"outlinewidth\":0,\"ticks\":\"\"}}}],\"carpet\":[{\"aaxis\":{\"endlinecolor\":\"#2a3f5f\",\"gridcolor\":\"white\",\"linecolor\":\"white\",\"minorgridcolor\":\"white\",\"startlinecolor\":\"#2a3f5f\"},\"baxis\":{\"endlinecolor\":\"#2a3f5f\",\"gridcolor\":\"white\",\"linecolor\":\"white\",\"minorgridcolor\":\"white\",\"startlinecolor\":\"#2a3f5f\"},\"type\":\"carpet\"}],\"table\":[{\"cells\":{\"fill\":{\"color\":\"#EBF0F8\"},\"line\":{\"color\":\"white\"}},\"header\":{\"fill\":{\"color\":\"#C8D4E3\"},\"line\":{\"color\":\"white\"}},\"type\":\"table\"}],\"barpolar\":[{\"marker\":{\"line\":{\"color\":\"#E5ECF6\",\"width\":0.5},\"pattern\":{\"fillmode\":\"overlay\",\"size\":10,\"solidity\":0.2}},\"type\":\"barpolar\"}],\"pie\":[{\"automargin\":true,\"type\":\"pie\"}]},\"layout\":{\"autotypenumbers\":\"strict\",\"colorway\":[\"#636efa\",\"#EF553B\",\"#00cc96\",\"#ab63fa\",\"#FFA15A\",\"#19d3f3\",\"#FF6692\",\"#B6E880\",\"#FF97FF\",\"#FECB52\"],\"font\":{\"color\":\"#2a3f5f\"},\"hovermode\":\"closest\",\"hoverlabel\":{\"align\":\"left\"},\"paper_bgcolor\":\"white\",\"plot_bgcolor\":\"#E5ECF6\",\"polar\":{\"bgcolor\":\"#E5ECF6\",\"angularaxis\":{\"gridcolor\":\"white\",\"linecolor\":\"white\",\"ticks\":\"\"},\"radialaxis\":{\"gridcolor\":\"white\",\"linecolor\":\"white\",\"ticks\":\"\"}},\"ternary\":{\"bgcolor\":\"#E5ECF6\",\"aaxis\":{\"gridcolor\":\"white\",\"linecolor\":\"white\",\"ticks\":\"\"},\"baxis\":{\"gridcolor\":\"white\",\"linecolor\":\"white\",\"ticks\":\"\"},\"caxis\":{\"gridcolor\":\"white\",\"linecolor\":\"white\",\"ticks\":\"\"}},\"coloraxis\":{\"colorbar\":{\"outlinewidth\":0,\"ticks\":\"\"}},\"colorscale\":{\"sequential\":[[0.0,\"#0d0887\"],[0.1111111111111111,\"#46039f\"],[0.2222222222222222,\"#7201a8\"],[0.3333333333333333,\"#9c179e\"],[0.4444444444444444,\"#bd3786\"],[0.5555555555555556,\"#d8576b\"],[0.6666666666666666,\"#ed7953\"],[0.7777777777777778,\"#fb9f3a\"],[0.8888888888888888,\"#fdca26\"],[1.0,\"#f0f921\"]],\"sequentialminus\":[[0.0,\"#0d0887\"],[0.1111111111111111,\"#46039f\"],[0.2222222222222222,\"#7201a8\"],[0.3333333333333333,\"#9c179e\"],[0.4444444444444444,\"#bd3786\"],[0.5555555555555556,\"#d8576b\"],[0.6666666666666666,\"#ed7953\"],[0.7777777777777778,\"#fb9f3a\"],[0.8888888888888888,\"#fdca26\"],[1.0,\"#f0f921\"]],\"diverging\":[[0,\"#8e0152\"],[0.1,\"#c51b7d\"],[0.2,\"#de77ae\"],[0.3,\"#f1b6da\"],[0.4,\"#fde0ef\"],[0.5,\"#f7f7f7\"],[0.6,\"#e6f5d0\"],[0.7,\"#b8e186\"],[0.8,\"#7fbc41\"],[0.9,\"#4d9221\"],[1,\"#276419\"]]},\"xaxis\":{\"gridcolor\":\"white\",\"linecolor\":\"white\",\"ticks\":\"\",\"title\":{\"standoff\":15},\"zerolinecolor\":\"white\",\"automargin\":true,\"zerolinewidth\":2},\"yaxis\":{\"gridcolor\":\"white\",\"linecolor\":\"white\",\"ticks\":\"\",\"title\":{\"standoff\":15},\"zerolinecolor\":\"white\",\"automargin\":true,\"zerolinewidth\":2},\"scene\":{\"xaxis\":{\"backgroundcolor\":\"#E5ECF6\",\"gridcolor\":\"white\",\"linecolor\":\"white\",\"showbackground\":true,\"ticks\":\"\",\"zerolinecolor\":\"white\",\"gridwidth\":2},\"yaxis\":{\"backgroundcolor\":\"#E5ECF6\",\"gridcolor\":\"white\",\"linecolor\":\"white\",\"showbackground\":true,\"ticks\":\"\",\"zerolinecolor\":\"white\",\"gridwidth\":2},\"zaxis\":{\"backgroundcolor\":\"#E5ECF6\",\"gridcolor\":\"white\",\"linecolor\":\"white\",\"showbackground\":true,\"ticks\":\"\",\"zerolinecolor\":\"white\",\"gridwidth\":2}},\"shapedefaults\":{\"line\":{\"color\":\"#2a3f5f\"}},\"annotationdefaults\":{\"arrowcolor\":\"#2a3f5f\",\"arrowhead\":0,\"arrowwidth\":1},\"geo\":{\"bgcolor\":\"white\",\"landcolor\":\"#E5ECF6\",\"subunitcolor\":\"white\",\"showland\":true,\"showlakes\":true,\"lakecolor\":\"white\"},\"title\":{\"x\":0.05},\"mapbox\":{\"style\":\"light\"}}},\"title\":{\"text\":\"Quiz-1 vs Mid1 Scores\"},\"xaxis\":{\"title\":{\"text\":\"Quiz-1 Scores\"}},\"yaxis\":{\"title\":{\"text\":\"Mid1 Scores\"}}},                        {\"responsive\": true}                    ).then(function(){\n",
              "                            \n",
              "var gd = document.getElementById('fa204ae4-db32-4509-bea1-972045353446');\n",
              "var x = new MutationObserver(function (mutations, observer) {{\n",
              "        var display = window.getComputedStyle(gd).display;\n",
              "        if (!display || display === 'none') {{\n",
              "            console.log([gd, 'removed!']);\n",
              "            Plotly.purge(gd);\n",
              "            observer.disconnect();\n",
              "        }}\n",
              "}});\n",
              "\n",
              "// Listen for the removal of the full notebook cells\n",
              "var notebookContainer = gd.closest('#notebook-container');\n",
              "if (notebookContainer) {{\n",
              "    x.observe(notebookContainer, {childList: true});\n",
              "}}\n",
              "\n",
              "// Listen for the clearing of the current output cell\n",
              "var outputEl = gd.closest('.output');\n",
              "if (outputEl) {{\n",
              "    x.observe(outputEl, {childList: true});\n",
              "}}\n",
              "\n",
              "                        })                };                            </script>        </div>\n",
              "</body>\n",
              "</html>"
            ]
          },
          "metadata": {}
        }
      ]
    }
  ]
}